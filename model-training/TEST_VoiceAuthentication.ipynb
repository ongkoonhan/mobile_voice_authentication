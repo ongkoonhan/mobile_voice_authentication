{
 "cells": [
  {
   "cell_type": "code",
   "execution_count": 1,
   "metadata": {},
   "outputs": [],
   "source": [
    "import os\n",
    "import librosa\n",
    "import numpy as np\n",
    "\n",
    "from config import models_folder\n",
    "from VoiceAuthentication import VoiceAuthentication"
   ]
  },
  {
   "cell_type": "code",
   "execution_count": 2,
   "metadata": {},
   "outputs": [],
   "source": [
    "input_folder = os.path.join(r\"D:\\Desktop\\data\\speech_audio\\voxceleb1\\audio\\vox1_dev_wav\\wav\")"
   ]
  },
  {
   "cell_type": "code",
   "execution_count": 3,
   "metadata": {},
   "outputs": [
    {
     "name": "stdout",
     "output_type": "stream",
     "text": [
      "DEVICE: cuda\n",
      "MODEL PATH: D:\\Desktop\\projects\\speaker_recognition_voxceleb1\\output_data\\models\\verification_classifier\\good_models\\2020-03-20_12-20-57_mobilenet\\mobile_model.pt\n"
     ]
    }
   ],
   "source": [
    "model_path = os.path.join(models_folder, \"verification_classifier\", \"good_models\", \"2020-03-20_12-20-57_mobilenet\", \"mobile_model.pt\")\n",
    "# model_path = os.path.join(models_folder, \"verification_classifier\", \"good_models\", \"2020-04-06_16-34-21_densenet\", \"mobile_model.pt\")\n",
    "voice_auth = VoiceAuthentication(model_path, print_info=False)"
   ]
  },
  {
   "cell_type": "code",
   "execution_count": 4,
   "metadata": {},
   "outputs": [],
   "source": [
    "get_audio_file = lambda speaker, video, audio_seg: os.path.join(input_folder, speaker, video, audio_seg)\n",
    "reference_sample = (\"id10001\", \"J9lHsKG98U8\", \"00001.wav\")   # 7s segments"
   ]
  },
  {
   "cell_type": "code",
   "execution_count": null,
   "metadata": {
    "scrolled": false
   },
   "outputs": [
    {
     "name": "stdout",
     "output_type": "stream",
     "text": [
      "VOTES: 50\n",
      "True\n",
      "VOTES: 22\n",
      "False\n",
      "VOTES: 50\n",
      "True\n"
     ]
    }
   ],
   "source": [
    "# Positive test\n",
    "auth_samples = [   # 7s segments\n",
    "    (\"id10001\", \"J9lHsKG98U8\", \"00013.wav\"),\n",
    "    (\"id10001\", \"1zcIwhmdeo4\", \"00001.wav\"),\n",
    "    (\"id10001\", \"zELwAz2W6hM\", \"00002.wav\"),\n",
    "    (\"id10001\", \"zELwAz2W6hM\", \"00008.wav\"),\n",
    "]\n",
    "for auth_sample in auth_samples:\n",
    "    wav_1, wav_2 = get_audio_file(*reference_sample), get_audio_file(*auth_sample)\n",
    "    result = voice_auth.authenticate(wav_1, wav_2)\n",
    "    print(result)"
   ]
  },
  {
   "cell_type": "code",
   "execution_count": null,
   "metadata": {
    "scrolled": false
   },
   "outputs": [],
   "source": [
    "# Negative test\n",
    "auth_samples = [   # 7s segments\n",
    "    (\"id10002\", \"6WO410QOeuo\", \"00001.wav\"),\n",
    "    (\"id10002\", \"6WO410QOeuo\", \"00010.wav\"),\n",
    "    (\"id10005\", \"38_N-A-QOUo\", \"00006.wav\"),\n",
    "    (\"id10005\", \"38_N-A-QOUo\", \"00009.wav\"),\n",
    "]\n",
    "for auth_sample in auth_samples:\n",
    "    wav_1, wav_2 = get_audio_file(*reference_sample), get_audio_file(*auth_sample)\n",
    "    result = voice_auth.authenticate(wav_1, wav_2)\n",
    "    print(result)"
   ]
  },
  {
   "cell_type": "code",
   "execution_count": null,
   "metadata": {},
   "outputs": [],
   "source": []
  },
  {
   "cell_type": "code",
   "execution_count": null,
   "metadata": {
    "colab": {},
    "colab_type": "code",
    "id": "HNw0ZEXs8D9X"
   },
   "outputs": [],
   "source": []
  }
 ],
 "metadata": {
  "accelerator": "GPU",
  "colab": {
   "collapsed_sections": [],
   "name": "Copy of SpeechRecognition_Data",
   "provenance": [
    {
     "file_id": "172ZbEHjGwXgZieZMXyjOz_RX1wxqitD7",
     "timestamp": 1582086486091
    },
    {
     "file_id": "https://github.com/mdda/cnn-speech-mnist/blob/master/SpeechRecognition_Data.ipynb",
     "timestamp": 1559877406836
    }
   ]
  },
  "kernelspec": {
   "display_name": "Python 3",
   "language": "python",
   "name": "python3"
  },
  "language_info": {
   "codemirror_mode": {
    "name": "ipython",
    "version": 3
   },
   "file_extension": ".py",
   "mimetype": "text/x-python",
   "name": "python",
   "nbconvert_exporter": "python",
   "pygments_lexer": "ipython3",
   "version": "3.7.4"
  }
 },
 "nbformat": 4,
 "nbformat_minor": 1
}
