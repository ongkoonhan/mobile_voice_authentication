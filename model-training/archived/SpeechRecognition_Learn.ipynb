{
 "cells": [
  {
   "cell_type": "markdown",
   "metadata": {
    "colab_type": "text",
    "id": "i-UH-kVp8IeB"
   },
   "source": [
    "## Train a CNN to Recognise Words\n",
    "\n",
    "The stamp process in the '_Data' notebook has produced some nice-looking spectrograms with a uniform (64,32) shape. \n",
    "\n",
    "Let's just recognise the words the stamps represent by learning to differentiate between the 'stamp' images : a task for which the MNIST CNN is almost perfect for..."
   ]
  },
  {
   "cell_type": "code",
   "execution_count": 0,
   "metadata": {
    "colab": {
     "base_uri": "https://localhost:8080/",
     "height": 101
    },
    "colab_type": "code",
    "executionInfo": {
     "elapsed": 40892,
     "status": "ok",
     "timestamp": 1564026575801,
     "user": {
      "displayName": "Martin Andrews",
      "photoUrl": "https://lh6.googleusercontent.com/-9s7FT8dDAtM/AAAAAAAAAAI/AAAAAAAAD9k/qYHlH1aLI5Y/s64/photo.jpg",
      "userId": "12875174896493011932"
     },
     "user_tz": -480
    },
    "id": "0sJmA8S3-9ZU",
    "outputId": "0f558950-7e54-4595-c341-0a781c37aca4"
   },
   "outputs": [
    {
     "name": "stdout",
     "output_type": "stream",
     "text": [
      "\u001b[K     |████████████████████████████████| 378.7MB 83kB/s \n",
      "\u001b[K     |████████████████████████████████| 61kB 29.6MB/s \n",
      "\u001b[K     |████████████████████████████████| 4.1MB 41.8MB/s \n",
      "\u001b[K     |████████████████████████████████| 450kB 50.2MB/s \n",
      "\u001b[?25h  Building wheel for opt-einsum (setup.py) ... \u001b[?25l\u001b[?25hdone\n"
     ]
    }
   ],
   "source": [
    "!pip install -qq tf-nightly-gpu-2.0-preview"
   ]
  },
  {
   "cell_type": "code",
   "execution_count": 0,
   "metadata": {
    "colab": {},
    "colab_type": "code",
    "id": "KN47p3MI8IeD"
   },
   "outputs": [],
   "source": [
    "\"\"\"Convolutional Neural Network Estimator, built with tf.keras (originally for MNIST).\"\"\"\n",
    "\n",
    "import os, sys\n",
    "\n",
    "import numpy as np\n",
    "import matplotlib.pyplot as plt\n",
    "%matplotlib inline\n",
    "\n",
    "import pickle\n",
    "\n",
    "import tensorflow as tf\n",
    "from tensorflow import keras\n",
    "\n",
    "do_training = True"
   ]
  },
  {
   "cell_type": "code",
   "execution_count": 0,
   "metadata": {
    "colab": {
     "base_uri": "https://localhost:8080/",
     "height": 84
    },
    "colab_type": "code",
    "executionInfo": {
     "elapsed": 688,
     "status": "ok",
     "timestamp": 1564026583353,
     "user": {
      "displayName": "Martin Andrews",
      "photoUrl": "https://lh6.googleusercontent.com/-9s7FT8dDAtM/AAAAAAAAAAI/AAAAAAAAD9k/qYHlH1aLI5Y/s64/photo.jpg",
      "userId": "12875174896493011932"
     },
     "user_tz": -480
    },
    "id": "gjjy1OPE8IeJ",
    "outputId": "48df0665-4aca-4865-c9b9-694bce92706d"
   },
   "outputs": [
    {
     "name": "stdout",
     "output_type": "stream",
     "text": [
      "3.6.8 (default, Jan 14 2019, 11:02:34) \n",
      "[GCC 8.0.1 20180414 (experimental) [trunk revision 259383]]\n",
      "Tensorflow: 2.0.0-dev20190724\n",
      "Keras: 2.2.4-tf\n"
     ]
    }
   ],
   "source": [
    "print(sys.version)\n",
    "print('Tensorflow:', tf.__version__)\n",
    "print('Keras:', keras.__version__)"
   ]
  },
  {
   "cell_type": "markdown",
   "metadata": {
    "colab_type": "text",
    "id": "8iyYNKK98IeN"
   },
   "source": [
    "Expecting:\n",
    "```\n",
    "3.6.7 (default, Oct 22 2018, 11:32:17) \n",
    "[GCC 8.2.0]\n",
    "Tensorflow: 2.0.0-dev20190606\n",
    "Keras: 2.2.4-tf\n",
    "```"
   ]
  },
  {
   "cell_type": "code",
   "execution_count": 0,
   "metadata": {
    "colab": {
     "base_uri": "https://localhost:8080/",
     "height": 17
    },
    "colab_type": "code",
    "executionInfo": {
     "elapsed": 736,
     "status": "ok",
     "timestamp": 1564026587539,
     "user": {
      "displayName": "Martin Andrews",
      "photoUrl": "https://lh6.googleusercontent.com/-9s7FT8dDAtM/AAAAAAAAAAI/AAAAAAAAD9k/qYHlH1aLI5Y/s64/photo.jpg",
      "userId": "12875174896493011932"
     },
     "user_tz": -480
    },
    "id": "iPtyAmIr8IeO",
    "outputId": "6a5836aa-f156-4be1-8bfe-b7484c0166a9"
   },
   "outputs": [
    {
     "data": {
      "text/html": [
       "<style>.container { width:100% !important; }</style>"
      ],
      "text/plain": [
       "<IPython.core.display.HTML object>"
      ]
     },
     "metadata": {
      "tags": []
     },
     "output_type": "display_data"
    }
   ],
   "source": [
    "from IPython.core.display import display, HTML\n",
    "display(HTML(\"<style>.container { width:100% !important; }</style>\"))"
   ]
  },
  {
   "cell_type": "markdown",
   "metadata": {
    "colab_type": "text",
    "id": "kuEAGsEGP8AT"
   },
   "source": []
  },
  {
   "cell_type": "code",
   "execution_count": 0,
   "metadata": {
    "colab": {},
    "colab_type": "code",
    "id": "nkD-QbNW8IeS"
   },
   "outputs": [],
   "source": [
    "prefix='num'"
   ]
  },
  {
   "cell_type": "code",
   "execution_count": 0,
   "metadata": {
    "colab": {
     "base_uri": "https://localhost:8080/",
     "height": 34
    },
    "colab_type": "code",
    "executionInfo": {
     "elapsed": 703,
     "status": "ok",
     "timestamp": 1564026667681,
     "user": {
      "displayName": "Martin Andrews",
      "photoUrl": "https://lh6.googleusercontent.com/-9s7FT8dDAtM/AAAAAAAAAAI/AAAAAAAAD9k/qYHlH1aLI5Y/s64/photo.jpg",
      "userId": "12875174896493011932"
     },
     "user_tz": -480
    },
    "id": "Nusib8hL8IeW",
    "outputId": "6bb99fd4-4f78-475e-df33-4db77965d8b7"
   },
   "outputs": [
    {
     "name": "stdout",
     "output_type": "stream",
     "text": [
      "Training and Validation(='check_') data loaded, 230 items total \n"
     ]
    }
   ],
   "source": [
    "# Load training and validation data\n",
    "dataset = pickle.load(open(os.path.join('data', prefix+'.pkl'), 'rb'))\n",
    "\n",
    "train_indices = [ i for i,r in enumerate(dataset['rand']) if r<=0.9 ]\n",
    "check_indices = [ i for i,r in enumerate(dataset['rand']) if r>0.9 ]\n",
    "\n",
    "print(\"Training and Validation(='check_') data loaded, %d items total \" % (len(dataset['stamp']),))"
   ]
  },
  {
   "cell_type": "code",
   "execution_count": 0,
   "metadata": {
    "colab": {},
    "colab_type": "code",
    "id": "3G3-Egpg8Ieg"
   },
   "outputs": [],
   "source": [
    "num_classes = 10\n",
    "\n",
    "input_shape = (32, 64, 1)\n",
    "\n",
    "batch_size = 20\n",
    "num_epochs = 100   # Needs to be large-ish because of dropout below..."
   ]
  },
  {
   "cell_type": "code",
   "execution_count": 0,
   "metadata": {
    "colab": {},
    "colab_type": "code",
    "id": "1mBGxh948Iep"
   },
   "outputs": [],
   "source": [
    "model = keras.models.Sequential()\n",
    "model.add(keras.layers.Conv2D(16, kernel_size=(5, 5), activation='relu', input_shape=input_shape))\n",
    "model.add(keras.layers.MaxPooling2D(pool_size=(2, 2)))\n",
    "model.add(keras.layers.Conv2D(16, (5, 5), activation='relu'))\n",
    "model.add(keras.layers.MaxPooling2D(pool_size=(2, 2)))\n",
    "model.add(keras.layers.Flatten())\n",
    "model.add(keras.layers.Dense(32, activation='relu'))\n",
    "model.add(keras.layers.Dropout(0.5))\n",
    "model.add(keras.layers.Dense(num_classes, activation='softmax'))"
   ]
  },
  {
   "cell_type": "code",
   "execution_count": 0,
   "metadata": {
    "colab": {},
    "colab_type": "code",
    "id": "RkrtBdP-8Iew"
   },
   "outputs": [],
   "source": [
    "model.compile(loss=keras.losses.categorical_crossentropy,\n",
    "              optimizer=keras.optimizers.Adam(lr=0.001),\n",
    "              metrics=['accuracy'])"
   ]
  },
  {
   "cell_type": "code",
   "execution_count": 0,
   "metadata": {
    "colab": {},
    "colab_type": "code",
    "id": "UBYwpKPt8Ie3"
   },
   "outputs": [],
   "source": [
    "# Create Dataset iterator\n",
    "\n",
    "def make_dataset(data, indices, seed=None, num_epochs=1, batch_size=batch_size):  \n",
    "    # If seed is defined, this will shuffle data into batches\n",
    "\n",
    "    # Get the data into tensorflow\n",
    "    stamps = np.array( data['stamp'] )[indices]\n",
    "    print(\"stamps.shape:\", stamps.shape)\n",
    "    # Ensure that the stamps are 'float32' in [0,1] and have the channel=1\n",
    "    stamps_with_channel = np.expand_dims( stamps / 255.0, -1)\n",
    "\n",
    "    labels = np.array( data['label'] )[indices]\n",
    "    print(\"labels.shape:\", labels.shape)\n",
    "    labels_one_hot = keras.utils.to_categorical(labels, num_classes)\n",
    "\n",
    "    all_images = tf.constant( stamps_with_channel, shape=stamps_with_channel.shape, dtype=tf.float32 )\n",
    "    all_labels = tf.constant( labels_one_hot, shape=labels_one_hot.shape )  # , verify_shape=True\n",
    "    \n",
    "    ds = tf.data.Dataset.from_tensor_slices( (all_images, all_labels) )\n",
    "    if seed is not None:\n",
    "        ds = ds.shuffle(batch_size*4)\n",
    "    \n",
    "    ds = ds.repeat(num_epochs).batch(batch_size)\n",
    "    \n",
    "    return ds"
   ]
  },
  {
   "cell_type": "code",
   "execution_count": 0,
   "metadata": {
    "colab": {
     "base_uri": "https://localhost:8080/",
     "height": 84
    },
    "colab_type": "code",
    "executionInfo": {
     "elapsed": 687,
     "status": "ok",
     "timestamp": 1564026736979,
     "user": {
      "displayName": "Martin Andrews",
      "photoUrl": "https://lh6.googleusercontent.com/-9s7FT8dDAtM/AAAAAAAAAAI/AAAAAAAAD9k/qYHlH1aLI5Y/s64/photo.jpg",
      "userId": "12875174896493011932"
     },
     "user_tz": -480
    },
    "id": "hLRbuu8G8Ie8",
    "outputId": "644e9167-0789-42d3-a8ff-05b0afcef067"
   },
   "outputs": [
    {
     "name": "stdout",
     "output_type": "stream",
     "text": [
      "stamps.shape: (204, 32, 64)\n",
      "labels.shape: (204,)\n",
      "stamps.shape: (26, 32, 64)\n",
      "labels.shape: (26,)\n"
     ]
    }
   ],
   "source": [
    "ds_train = make_dataset(dataset, train_indices, num_epochs=num_epochs, seed=100)  # shuffles...\n",
    "ds_check = make_dataset(dataset, check_indices, num_epochs=num_epochs, batch_size=1)"
   ]
  },
  {
   "cell_type": "code",
   "execution_count": 0,
   "metadata": {
    "colab": {
     "base_uri": "https://localhost:8080/",
     "height": 34
    },
    "colab_type": "code",
    "executionInfo": {
     "elapsed": 713,
     "status": "ok",
     "timestamp": 1564026751581,
     "user": {
      "displayName": "Martin Andrews",
      "photoUrl": "https://lh6.googleusercontent.com/-9s7FT8dDAtM/AAAAAAAAAAI/AAAAAAAAD9k/qYHlH1aLI5Y/s64/photo.jpg",
      "userId": "12875174896493011932"
     },
     "user_tz": -480
    },
    "id": "GBsXdEcM8IfC",
    "outputId": "cfb2c427-365c-4baf-9f05-93dc182175f8"
   },
   "outputs": [
    {
     "data": {
      "text/plain": [
       "(10, 204)"
      ]
     },
     "execution_count": 14,
     "metadata": {
      "tags": []
     },
     "output_type": "execute_result"
    }
   ],
   "source": [
    "spe = len(train_indices) // batch_size\n",
    "spe, len(train_indices)"
   ]
  },
  {
   "cell_type": "code",
   "execution_count": 0,
   "metadata": {
    "colab": {
     "base_uri": "https://localhost:8080/",
     "height": 1000
    },
    "colab_type": "code",
    "executionInfo": {
     "elapsed": 15898,
     "status": "ok",
     "timestamp": 1564026768047,
     "user": {
      "displayName": "Martin Andrews",
      "photoUrl": "https://lh6.googleusercontent.com/-9s7FT8dDAtM/AAAAAAAAAAI/AAAAAAAAD9k/qYHlH1aLI5Y/s64/photo.jpg",
      "userId": "12875174896493011932"
     },
     "user_tz": -480
    },
    "id": "IH8b1mag8IfH",
    "outputId": "f4a28602-c296-4c08-b163-21ba4f0def5d"
   },
   "outputs": [
    {
     "name": "stderr",
     "output_type": "stream",
     "text": [
      "WARNING: Logging before flag parsing goes to stderr.\n",
      "W0725 03:52:32.416753 140166315775872 deprecation.py:323] From /usr/local/lib/python3.6/dist-packages/tensorflow_core/python/ops/math_grad.py:1251: where (from tensorflow.python.ops.array_ops) is deprecated and will be removed in a future version.\n",
      "Instructions for updating:\n",
      "Use tf.where in 2.0, which has the same broadcast rule as np.where\n"
     ]
    },
    {
     "name": "stdout",
     "output_type": "stream",
     "text": [
      "Epoch 1/100\n"
     ]
    },
    {
     "name": "stderr",
     "output_type": "stream",
     "text": [
      "W0725 03:52:32.702716 140166315775872 deprecation.py:323] From /usr/local/lib/python3.6/dist-packages/tensorflow_core/python/keras/optimizer_v2/optimizer_v2.py:468: BaseResourceVariable.constraint (from tensorflow.python.ops.resource_variable_ops) is deprecated and will be removed in a future version.\n",
      "Instructions for updating:\n",
      "Apply a constraint manually following the optimizer update step.\n"
     ]
    },
    {
     "name": "stdout",
     "output_type": "stream",
     "text": [
      "10/10 [==============================] - 5s 457ms/step - loss: 2.3059 - accuracy: 0.0950 - val_loss: 2.3056 - val_accuracy: 0.0769\n",
      "Epoch 2/100\n",
      "10/10 [==============================] - 0s 11ms/step - loss: 2.3018 - accuracy: 0.0800 - val_loss: 2.3054 - val_accuracy: 0.1538\n",
      "Epoch 3/100\n",
      "10/10 [==============================] - 0s 12ms/step - loss: 2.2994 - accuracy: 0.1300 - val_loss: 2.3031 - val_accuracy: 0.2308\n",
      "Epoch 4/100\n",
      "10/10 [==============================] - 0s 11ms/step - loss: 2.2932 - accuracy: 0.1650 - val_loss: 2.3050 - val_accuracy: 0.1154\n",
      "Epoch 5/100\n",
      "10/10 [==============================] - 0s 11ms/step - loss: 2.2846 - accuracy: 0.1250 - val_loss: 2.2998 - val_accuracy: 0.0769\n",
      "Epoch 6/100\n",
      "10/10 [==============================] - 0s 11ms/step - loss: 2.2697 - accuracy: 0.1650 - val_loss: 2.2791 - val_accuracy: 0.2308\n",
      "Epoch 7/100\n",
      "10/10 [==============================] - 0s 11ms/step - loss: 2.2363 - accuracy: 0.1950 - val_loss: 2.2632 - val_accuracy: 0.1923\n",
      "Epoch 8/100\n",
      "10/10 [==============================] - 0s 11ms/step - loss: 2.1486 - accuracy: 0.2800 - val_loss: 2.2086 - val_accuracy: 0.3077\n",
      "Epoch 9/100\n",
      "10/10 [==============================] - 0s 11ms/step - loss: 2.0979 - accuracy: 0.2300 - val_loss: 2.1241 - val_accuracy: 0.3462\n",
      "Epoch 10/100\n",
      "10/10 [==============================] - 0s 11ms/step - loss: 1.9503 - accuracy: 0.3000 - val_loss: 2.0158 - val_accuracy: 0.3462\n",
      "Epoch 11/100\n",
      "10/10 [==============================] - 0s 11ms/step - loss: 1.8703 - accuracy: 0.3150 - val_loss: 1.9558 - val_accuracy: 0.3846\n",
      "Epoch 12/100\n",
      "10/10 [==============================] - 0s 12ms/step - loss: 1.8505 - accuracy: 0.3350 - val_loss: 1.8570 - val_accuracy: 0.4231\n",
      "Epoch 13/100\n",
      "10/10 [==============================] - 0s 11ms/step - loss: 1.7443 - accuracy: 0.3600 - val_loss: 1.7716 - val_accuracy: 0.3462\n",
      "Epoch 14/100\n",
      "10/10 [==============================] - 0s 11ms/step - loss: 1.5962 - accuracy: 0.4200 - val_loss: 1.6710 - val_accuracy: 0.3846\n",
      "Epoch 15/100\n",
      "10/10 [==============================] - 0s 11ms/step - loss: 1.5762 - accuracy: 0.3850 - val_loss: 1.5454 - val_accuracy: 0.5385\n",
      "Epoch 16/100\n",
      "10/10 [==============================] - 0s 11ms/step - loss: 1.4689 - accuracy: 0.4600 - val_loss: 1.5315 - val_accuracy: 0.4231\n",
      "Epoch 17/100\n",
      "10/10 [==============================] - 0s 11ms/step - loss: 1.3808 - accuracy: 0.5000 - val_loss: 1.3251 - val_accuracy: 0.6538\n",
      "Epoch 18/100\n",
      "10/10 [==============================] - 0s 10ms/step - loss: 1.4080 - accuracy: 0.4700 - val_loss: 1.2724 - val_accuracy: 0.4615\n",
      "Epoch 19/100\n",
      "10/10 [==============================] - 0s 11ms/step - loss: 1.2917 - accuracy: 0.5200 - val_loss: 1.1809 - val_accuracy: 0.6538\n",
      "Epoch 20/100\n",
      "10/10 [==============================] - 0s 10ms/step - loss: 1.2443 - accuracy: 0.5350 - val_loss: 1.0554 - val_accuracy: 0.6923\n",
      "Epoch 21/100\n",
      "10/10 [==============================] - 0s 11ms/step - loss: 1.2401 - accuracy: 0.5350 - val_loss: 1.1255 - val_accuracy: 0.7692\n",
      "Epoch 22/100\n",
      "10/10 [==============================] - 0s 10ms/step - loss: 1.1861 - accuracy: 0.6000 - val_loss: 1.0005 - val_accuracy: 0.6923\n",
      "Epoch 23/100\n",
      "10/10 [==============================] - 0s 10ms/step - loss: 1.0989 - accuracy: 0.5850 - val_loss: 0.9451 - val_accuracy: 0.6538\n",
      "Epoch 24/100\n",
      "10/10 [==============================] - 0s 10ms/step - loss: 1.1780 - accuracy: 0.5500 - val_loss: 0.8775 - val_accuracy: 0.7692\n",
      "Epoch 25/100\n",
      "10/10 [==============================] - 0s 11ms/step - loss: 1.0512 - accuracy: 0.6050 - val_loss: 0.8365 - val_accuracy: 0.7692\n",
      "Epoch 26/100\n",
      "10/10 [==============================] - 0s 10ms/step - loss: 1.1255 - accuracy: 0.5650 - val_loss: 0.8544 - val_accuracy: 0.7692\n",
      "Epoch 27/100\n",
      "10/10 [==============================] - 0s 11ms/step - loss: 1.1333 - accuracy: 0.5750 - val_loss: 0.8711 - val_accuracy: 0.7308\n",
      "Epoch 28/100\n",
      "10/10 [==============================] - 0s 10ms/step - loss: 1.0446 - accuracy: 0.6100 - val_loss: 0.7844 - val_accuracy: 0.8077\n",
      "Epoch 29/100\n",
      "10/10 [==============================] - 0s 10ms/step - loss: 1.1051 - accuracy: 0.5650 - val_loss: 0.7962 - val_accuracy: 0.8846\n",
      "Epoch 30/100\n",
      "10/10 [==============================] - 0s 11ms/step - loss: 1.0362 - accuracy: 0.6450 - val_loss: 0.6667 - val_accuracy: 0.8846\n",
      "Epoch 31/100\n",
      "10/10 [==============================] - 0s 10ms/step - loss: 0.8968 - accuracy: 0.6700 - val_loss: 0.6472 - val_accuracy: 0.8462\n",
      "Epoch 32/100\n",
      "10/10 [==============================] - 0s 10ms/step - loss: 0.9632 - accuracy: 0.6450 - val_loss: 0.6118 - val_accuracy: 0.8462\n",
      "Epoch 33/100\n",
      "10/10 [==============================] - 0s 10ms/step - loss: 0.8404 - accuracy: 0.6900 - val_loss: 0.6020 - val_accuracy: 0.8462\n",
      "Epoch 34/100\n",
      "10/10 [==============================] - 0s 10ms/step - loss: 0.9955 - accuracy: 0.6350 - val_loss: 0.6242 - val_accuracy: 0.8077\n",
      "Epoch 35/100\n",
      "10/10 [==============================] - 0s 11ms/step - loss: 0.9532 - accuracy: 0.6400 - val_loss: 0.6063 - val_accuracy: 0.9231\n",
      "Epoch 36/100\n",
      "10/10 [==============================] - 0s 10ms/step - loss: 0.9277 - accuracy: 0.6300 - val_loss: 0.5249 - val_accuracy: 0.9231\n",
      "Epoch 37/100\n",
      "10/10 [==============================] - 0s 10ms/step - loss: 0.9394 - accuracy: 0.6450 - val_loss: 0.5711 - val_accuracy: 0.8462\n",
      "Epoch 38/100\n",
      "10/10 [==============================] - 0s 10ms/step - loss: 0.9040 - accuracy: 0.6700 - val_loss: 0.5704 - val_accuracy: 0.8846\n",
      "Epoch 39/100\n",
      "10/10 [==============================] - 0s 10ms/step - loss: 0.8088 - accuracy: 0.6950 - val_loss: 0.4623 - val_accuracy: 0.8846\n",
      "Epoch 40/100\n",
      "10/10 [==============================] - 0s 11ms/step - loss: 0.9085 - accuracy: 0.6550 - val_loss: 0.5751 - val_accuracy: 0.9231\n",
      "Epoch 41/100\n",
      "10/10 [==============================] - 0s 10ms/step - loss: 0.8580 - accuracy: 0.6600 - val_loss: 0.6060 - val_accuracy: 0.8462\n",
      "Epoch 42/100\n",
      "10/10 [==============================] - 0s 10ms/step - loss: 0.8520 - accuracy: 0.6750 - val_loss: 0.5459 - val_accuracy: 0.8846\n",
      "Epoch 43/100\n",
      "10/10 [==============================] - 0s 10ms/step - loss: 0.9441 - accuracy: 0.6550 - val_loss: 0.5436 - val_accuracy: 0.8846\n",
      "Epoch 44/100\n",
      "10/10 [==============================] - 0s 10ms/step - loss: 0.9096 - accuracy: 0.6500 - val_loss: 0.5052 - val_accuracy: 0.8462\n",
      "Epoch 45/100\n",
      "10/10 [==============================] - 0s 10ms/step - loss: 0.7404 - accuracy: 0.7250 - val_loss: 0.4601 - val_accuracy: 0.8846\n",
      "Epoch 46/100\n",
      "10/10 [==============================] - 0s 10ms/step - loss: 0.7623 - accuracy: 0.7150 - val_loss: 0.4630 - val_accuracy: 0.9231\n",
      "Epoch 47/100\n",
      "10/10 [==============================] - 0s 10ms/step - loss: 0.7849 - accuracy: 0.6900 - val_loss: 0.4882 - val_accuracy: 0.8846\n",
      "Epoch 48/100\n",
      "10/10 [==============================] - 0s 10ms/step - loss: 0.7903 - accuracy: 0.6650 - val_loss: 0.4168 - val_accuracy: 0.9231\n",
      "Epoch 49/100\n",
      "10/10 [==============================] - 0s 10ms/step - loss: 0.7023 - accuracy: 0.7250 - val_loss: 0.3425 - val_accuracy: 0.9231\n",
      "Epoch 50/100\n",
      "10/10 [==============================] - 0s 11ms/step - loss: 0.7738 - accuracy: 0.6500 - val_loss: 0.4438 - val_accuracy: 0.9231\n",
      "Epoch 51/100\n",
      "10/10 [==============================] - 0s 10ms/step - loss: 0.9112 - accuracy: 0.6600 - val_loss: 0.4886 - val_accuracy: 0.8846\n",
      "Epoch 52/100\n",
      "10/10 [==============================] - 0s 10ms/step - loss: 0.7988 - accuracy: 0.6900 - val_loss: 0.4048 - val_accuracy: 0.9615\n",
      "Epoch 53/100\n",
      "10/10 [==============================] - 0s 10ms/step - loss: 0.7887 - accuracy: 0.6900 - val_loss: 0.3798 - val_accuracy: 0.9615\n",
      "Epoch 54/100\n",
      "10/10 [==============================] - 0s 10ms/step - loss: 0.7609 - accuracy: 0.7200 - val_loss: 0.3371 - val_accuracy: 0.8846\n",
      "Epoch 55/100\n",
      "10/10 [==============================] - 0s 12ms/step - loss: 0.7310 - accuracy: 0.7000 - val_loss: 0.3924 - val_accuracy: 1.0000\n",
      "Epoch 56/100\n",
      "10/10 [==============================] - 0s 10ms/step - loss: 0.8568 - accuracy: 0.6650 - val_loss: 0.4210 - val_accuracy: 0.8846\n",
      "Epoch 57/100\n",
      "10/10 [==============================] - 0s 10ms/step - loss: 0.7236 - accuracy: 0.7250 - val_loss: 0.3472 - val_accuracy: 1.0000\n",
      "Epoch 58/100\n",
      "10/10 [==============================] - 0s 10ms/step - loss: 0.7927 - accuracy: 0.6700 - val_loss: 0.3710 - val_accuracy: 0.9615\n",
      "Epoch 59/100\n",
      "10/10 [==============================] - 0s 11ms/step - loss: 0.6398 - accuracy: 0.7700 - val_loss: 0.3452 - val_accuracy: 0.9231\n",
      "Epoch 60/100\n",
      "10/10 [==============================] - 0s 10ms/step - loss: 0.7585 - accuracy: 0.7200 - val_loss: 0.3815 - val_accuracy: 0.9231\n",
      "Epoch 61/100\n",
      "10/10 [==============================] - 0s 10ms/step - loss: 0.7028 - accuracy: 0.6950 - val_loss: 0.3301 - val_accuracy: 1.0000\n",
      "Epoch 62/100\n",
      "10/10 [==============================] - 0s 10ms/step - loss: 0.6582 - accuracy: 0.7500 - val_loss: 0.3421 - val_accuracy: 0.9231\n",
      "Epoch 63/100\n",
      "10/10 [==============================] - 0s 10ms/step - loss: 0.6379 - accuracy: 0.7150 - val_loss: 0.2981 - val_accuracy: 0.9615\n",
      "Epoch 64/100\n",
      "10/10 [==============================] - 0s 10ms/step - loss: 0.7295 - accuracy: 0.7250 - val_loss: 0.3612 - val_accuracy: 0.9615\n",
      "Epoch 65/100\n",
      "10/10 [==============================] - 0s 10ms/step - loss: 0.7757 - accuracy: 0.6650 - val_loss: 0.3521 - val_accuracy: 0.9231\n",
      "Epoch 66/100\n",
      "10/10 [==============================] - 0s 11ms/step - loss: 0.7452 - accuracy: 0.7300 - val_loss: 0.3106 - val_accuracy: 0.8846\n",
      "Epoch 67/100\n",
      "10/10 [==============================] - 0s 10ms/step - loss: 0.6713 - accuracy: 0.7100 - val_loss: 0.3357 - val_accuracy: 0.9615\n",
      "Epoch 68/100\n",
      "10/10 [==============================] - 0s 10ms/step - loss: 0.7516 - accuracy: 0.6750 - val_loss: 0.3293 - val_accuracy: 0.9615\n",
      "Epoch 69/100\n",
      "10/10 [==============================] - 0s 10ms/step - loss: 0.6904 - accuracy: 0.6950 - val_loss: 0.2951 - val_accuracy: 1.0000\n",
      "Epoch 70/100\n",
      "10/10 [==============================] - 0s 10ms/step - loss: 0.7327 - accuracy: 0.7000 - val_loss: 0.3065 - val_accuracy: 0.9231\n",
      "Epoch 71/100\n",
      "10/10 [==============================] - 0s 10ms/step - loss: 0.7877 - accuracy: 0.7000 - val_loss: 0.3223 - val_accuracy: 0.9615\n",
      "Epoch 72/100\n",
      "10/10 [==============================] - 0s 10ms/step - loss: 0.6374 - accuracy: 0.7500 - val_loss: 0.3004 - val_accuracy: 0.9615\n",
      "Epoch 73/100\n",
      "10/10 [==============================] - 0s 10ms/step - loss: 0.7037 - accuracy: 0.6650 - val_loss: 0.2881 - val_accuracy: 1.0000\n",
      "Epoch 74/100\n",
      "10/10 [==============================] - 0s 10ms/step - loss: 0.6825 - accuracy: 0.7100 - val_loss: 0.3349 - val_accuracy: 0.9615\n",
      "Epoch 75/100\n",
      "10/10 [==============================] - 0s 10ms/step - loss: 0.6673 - accuracy: 0.7450 - val_loss: 0.3002 - val_accuracy: 0.9615\n",
      "Epoch 76/100\n",
      "10/10 [==============================] - 0s 10ms/step - loss: 0.6543 - accuracy: 0.7100 - val_loss: 0.2968 - val_accuracy: 0.9615\n",
      "Epoch 77/100\n",
      "10/10 [==============================] - 0s 10ms/step - loss: 0.7754 - accuracy: 0.6800 - val_loss: 0.2778 - val_accuracy: 1.0000\n",
      "Epoch 78/100\n",
      "10/10 [==============================] - 0s 11ms/step - loss: 0.6201 - accuracy: 0.7750 - val_loss: 0.2852 - val_accuracy: 0.9231\n",
      "Epoch 79/100\n",
      "10/10 [==============================] - 0s 10ms/step - loss: 0.6225 - accuracy: 0.7350 - val_loss: 0.2303 - val_accuracy: 1.0000\n",
      "Epoch 80/100\n",
      "10/10 [==============================] - 0s 10ms/step - loss: 0.6746 - accuracy: 0.7500 - val_loss: 0.2761 - val_accuracy: 0.9231\n",
      "Epoch 81/100\n",
      "10/10 [==============================] - 0s 10ms/step - loss: 0.7420 - accuracy: 0.6900 - val_loss: 0.2718 - val_accuracy: 1.0000\n",
      "Epoch 82/100\n",
      "10/10 [==============================] - 0s 10ms/step - loss: 0.6980 - accuracy: 0.6850 - val_loss: 0.2499 - val_accuracy: 1.0000\n",
      "Epoch 83/100\n",
      "10/10 [==============================] - 0s 10ms/step - loss: 0.6538 - accuracy: 0.7450 - val_loss: 0.2889 - val_accuracy: 0.9231\n",
      "Epoch 84/100\n",
      "10/10 [==============================] - 0s 10ms/step - loss: 0.7067 - accuracy: 0.6850 - val_loss: 0.3086 - val_accuracy: 1.0000\n",
      "Epoch 85/100\n",
      "10/10 [==============================] - 0s 10ms/step - loss: 0.7034 - accuracy: 0.7100 - val_loss: 0.2779 - val_accuracy: 0.9615\n",
      "Epoch 86/100\n",
      "10/10 [==============================] - 0s 10ms/step - loss: 0.7098 - accuracy: 0.7350 - val_loss: 0.2863 - val_accuracy: 0.9231\n",
      "Epoch 87/100\n",
      "10/10 [==============================] - 0s 10ms/step - loss: 0.6136 - accuracy: 0.7700 - val_loss: 0.2476 - val_accuracy: 0.9615\n",
      "Epoch 88/100\n",
      "10/10 [==============================] - 0s 11ms/step - loss: 0.5760 - accuracy: 0.7300 - val_loss: 0.2248 - val_accuracy: 0.9615\n",
      "Epoch 89/100\n",
      "10/10 [==============================] - 0s 10ms/step - loss: 0.6825 - accuracy: 0.7550 - val_loss: 0.2270 - val_accuracy: 0.9615\n",
      "Epoch 90/100\n",
      "10/10 [==============================] - 0s 10ms/step - loss: 0.6677 - accuracy: 0.7100 - val_loss: 0.2450 - val_accuracy: 1.0000\n",
      "Epoch 91/100\n",
      "10/10 [==============================] - 0s 10ms/step - loss: 0.5088 - accuracy: 0.7900 - val_loss: 0.2506 - val_accuracy: 0.9231\n",
      "Epoch 92/100\n",
      "10/10 [==============================] - 0s 10ms/step - loss: 0.6616 - accuracy: 0.7050 - val_loss: 0.2249 - val_accuracy: 0.9615\n",
      "Epoch 93/100\n",
      "10/10 [==============================] - 0s 10ms/step - loss: 0.5982 - accuracy: 0.7450 - val_loss: 0.2382 - val_accuracy: 0.9615\n",
      "Epoch 94/100\n",
      "10/10 [==============================] - 0s 10ms/step - loss: 0.6699 - accuracy: 0.7400 - val_loss: 0.2396 - val_accuracy: 0.9615\n",
      "Epoch 95/100\n",
      "10/10 [==============================] - 0s 10ms/step - loss: 0.5612 - accuracy: 0.7700 - val_loss: 0.3260 - val_accuracy: 0.8846\n",
      "Epoch 96/100\n",
      "10/10 [==============================] - 0s 10ms/step - loss: 0.6200 - accuracy: 0.7200 - val_loss: 0.2379 - val_accuracy: 0.9615\n",
      "Epoch 97/100\n",
      "10/10 [==============================] - 0s 11ms/step - loss: 0.6156 - accuracy: 0.7800 - val_loss: 0.1806 - val_accuracy: 1.0000\n",
      "Epoch 98/100\n",
      "10/10 [==============================] - 0s 10ms/step - loss: 0.4838 - accuracy: 0.8000 - val_loss: 0.2416 - val_accuracy: 0.9615\n",
      "Epoch 99/100\n",
      "10/10 [==============================] - 0s 10ms/step - loss: 0.6343 - accuracy: 0.7100 - val_loss: 0.2564 - val_accuracy: 0.9615\n",
      "Epoch 100/100\n",
      "10/10 [==============================] - 0s 10ms/step - loss: 0.5355 - accuracy: 0.8100 - val_loss: 0.2117 - val_accuracy: 1.0000\n"
     ]
    },
    {
     "data": {
      "text/plain": [
       "<tensorflow.python.keras.callbacks.History at 0x7f7a94c464a8>"
      ]
     },
     "execution_count": 15,
     "metadata": {
      "tags": []
     },
     "output_type": "execute_result"
    }
   ],
   "source": [
    "model.fit(ds_train, steps_per_epoch=spe, epochs=num_epochs, \n",
    "          validation_data=ds_check, validation_steps=len(check_indices), \n",
    "          verbose=1)"
   ]
  },
  {
   "cell_type": "code",
   "execution_count": 0,
   "metadata": {
    "colab": {
     "base_uri": "https://localhost:8080/",
     "height": 50
    },
    "colab_type": "code",
    "executionInfo": {
     "elapsed": 711,
     "status": "ok",
     "timestamp": 1564026791231,
     "user": {
      "displayName": "Martin Andrews",
      "photoUrl": "https://lh6.googleusercontent.com/-9s7FT8dDAtM/AAAAAAAAAAI/AAAAAAAAD9k/qYHlH1aLI5Y/s64/photo.jpg",
      "userId": "12875174896493011932"
     },
     "user_tz": -480
    },
    "id": "YN1k07F58IfM",
    "outputId": "5f9bf8f8-d27a-4847-b5f9-5730de4ac9e2"
   },
   "outputs": [
    {
     "name": "stdout",
     "output_type": "stream",
     "text": [
      "26/26 [==============================] - 0s 3ms/step - loss: 0.2117 - accuracy: 1.0000\n"
     ]
    },
    {
     "data": {
      "text/plain": [
       "[0.21166683177580126, 1.0]"
      ]
     },
     "execution_count": 16,
     "metadata": {
      "tags": []
     },
     "output_type": "execute_result"
    }
   ],
   "source": [
    "score = model.evaluate(ds_check, steps=len(check_indices), verbose=1)\n",
    "score"
   ]
  },
  {
   "cell_type": "markdown",
   "metadata": {
    "colab_type": "text",
    "id": "BzH7r94f8IfQ"
   },
   "source": [
    "... comment on results ..."
   ]
  },
  {
   "cell_type": "markdown",
   "metadata": {
    "colab_type": "text",
    "id": "mFw72CO38IfS"
   },
   "source": [
    "### Now let's look at some 'live examples'"
   ]
  },
  {
   "cell_type": "code",
   "execution_count": 0,
   "metadata": {
    "colab": {
     "base_uri": "https://localhost:8080/",
     "height": 34
    },
    "colab_type": "code",
    "executionInfo": {
     "elapsed": 720,
     "status": "ok",
     "timestamp": 1564026806493,
     "user": {
      "displayName": "Martin Andrews",
      "photoUrl": "https://lh6.googleusercontent.com/-9s7FT8dDAtM/AAAAAAAAAAI/AAAAAAAAD9k/qYHlH1aLI5Y/s64/photo.jpg",
      "userId": "12875174896493011932"
     },
     "user_tz": -480
    },
    "id": "FhLazc7w8IfT",
    "outputId": "c3ccb6a2-5064-4738-f09b-350c0ec0d4c1"
   },
   "outputs": [
    {
     "name": "stdout",
     "output_type": "stream",
     "text": [
      "Ad-hoc test data loaded\n"
     ]
    }
   ],
   "source": [
    "dataset_test = pickle.load(open(os.path.join('data', prefix+'-test.pkl'), 'rb'))\n",
    "\n",
    "print(\"Ad-hoc test data loaded\")"
   ]
  },
  {
   "cell_type": "code",
   "execution_count": 0,
   "metadata": {
    "colab": {
     "base_uri": "https://localhost:8080/",
     "height": 235
    },
    "colab_type": "code",
    "executionInfo": {
     "elapsed": 725,
     "status": "ok",
     "timestamp": 1564026816564,
     "user": {
      "displayName": "Martin Andrews",
      "photoUrl": "https://lh6.googleusercontent.com/-9s7FT8dDAtM/AAAAAAAAAAI/AAAAAAAAD9k/qYHlH1aLI5Y/s64/photo.jpg",
      "userId": "12875174896493011932"
     },
     "user_tz": -480
    },
    "id": "agw2wNHz8IfX",
    "outputId": "4233d043-c871-4000-ee05-35a9c562cede"
   },
   "outputs": [
    {
     "name": "stdout",
     "output_type": "stream",
     "text": [
      "stamps.shape: (10, 32, 64)\n",
      "labels.shape: (10,)\n",
      "\n",
      "Martin-Digits_0 == 0  p=[ 97.06%,  0.00%,  1.14%,  0.00%,  1.75%,  0.00%,  0.00%,  0.01%,  0.00%,  0.03%]\n",
      "Martin-Digits_1 == 1  p=[  0.12%, 72.03%,  3.12%,  0.02%,  0.05%,  4.70%,  0.01%,  0.96%,  0.01%, 19.00%]\n",
      "Martin-Digits_2 == 2  p=[ 34.41%,  0.07%, 57.69%,  0.00%,  6.43%,  0.00%,  0.00%,  0.98%,  0.02%,  0.39%]\n",
      "Martin-Digits_3 == 3  p=[  0.00%,  0.00%,  0.00%, 99.60%,  0.00%,  0.00%,  0.00%,  0.00%,  0.40%,  0.00%]\n",
      "Martin-Digits_4 == 4  p=[  1.08%,  0.00%,  0.02%,  0.00%, 98.90%,  0.00%,  0.00%,  0.00%,  0.00%,  0.00%]\n",
      "Martin-Digits_5 == 5  p=[  0.09%,  1.07%,  0.05%,  0.02%,  0.01%, 93.10%,  0.00%,  0.00%,  0.00%,  5.67%]\n",
      "Martin-Digits_6 == 6  p=[  0.00%,  0.00%,  0.00%,  0.00%,  0.00%,  0.00%, 99.70%,  0.00%,  0.30%,  0.00%]\n",
      "Martin-Digits_7 == 7  p=[  0.20%, 11.92%, 14.10%,  0.15%,  0.13%,  0.73%,  0.94%, 68.59%,  0.13%,  3.11%]\n",
      "Martin-Digits_8 == 8  p=[  0.00%,  0.00%,  0.01%,  0.05%,  0.00%,  0.00%,  0.05%,  0.00%, 99.89%,  0.00%]\n",
      "Martin-Digits_9 == 9  p=[  0.30%,  0.88%,  0.04%,  0.57%,  0.00%, 44.80%,  0.00%,  0.00%,  0.03%, 53.40%]\n"
     ]
    }
   ],
   "source": [
    "def get_predictions_for_dataset( data ):\n",
    "    n_points = len(data['stamp'])\n",
    "    ds = make_dataset(data, range( n_points ), num_epochs=1, batch_size=1)\n",
    "\n",
    "    pred_arr = model.predict(ds, steps=n_points, verbose=0)\n",
    "    #print(pred_arr)  # This is an array of predictions, each with n_classes of probs\n",
    "\n",
    "    predictions = [ dict(classes=i, probabilities=p, logits=np.log(p+1e-20)) \n",
    "                    for i, p in enumerate(pred_arr) ]\n",
    "    \n",
    "    for i, p in enumerate(predictions):\n",
    "        label = int(data['label'][i])\n",
    "        if label>=0:\n",
    "            p['word'] = data['words'][label]\n",
    "        else:\n",
    "            p['word'] = data['words'][i]\n",
    "        p['label'] = label\n",
    "    \n",
    "    return predictions\n",
    "\n",
    "predictions = get_predictions_for_dataset(dataset_test)\n",
    "\n",
    "print()\n",
    "for i, prediction in enumerate(predictions):\n",
    "    probs = ','.join([ \"%6.2f%%\" % (p*100,) for p in prediction['probabilities']] )\n",
    "    print( \"%s == %d  p=[%s]\" % (dataset_test['words'][i], prediction['classes'],  probs,))"
   ]
  },
  {
   "cell_type": "code",
   "execution_count": 0,
   "metadata": {
    "colab": {},
    "colab_type": "code",
    "id": "aQx-aMgQ8Ifc"
   },
   "outputs": [],
   "source": [
    "def show_heat_map(heat_map, yticks=None):\n",
    "    fig, ax = plt.subplots()\n",
    "    ax.xaxis.tick_top()\n",
    "    plt.imshow(heat_map, interpolation='nearest', cmap=plt.cm.Blues, aspect='auto')\n",
    "    plt.xticks( range(10) )\n",
    "    if yticks:\n",
    "        plt.yticks( range(len(heat_map)), yticks )\n",
    "    else:\n",
    "        plt.yticks( range(len(heat_map)) )\n",
    "    plt.show()"
   ]
  },
  {
   "cell_type": "code",
   "execution_count": 0,
   "metadata": {
    "colab": {
     "base_uri": "https://localhost:8080/",
     "height": 269
    },
    "colab_type": "code",
    "executionInfo": {
     "elapsed": 777,
     "status": "ok",
     "timestamp": 1564026833045,
     "user": {
      "displayName": "Martin Andrews",
      "photoUrl": "https://lh6.googleusercontent.com/-9s7FT8dDAtM/AAAAAAAAAAI/AAAAAAAAD9k/qYHlH1aLI5Y/s64/photo.jpg",
      "userId": "12875174896493011932"
     },
     "user_tz": -480
    },
    "id": "pDQNbEod8Ifh",
    "outputId": "868230f7-6eec-4e45-ef98-d58391979541"
   },
   "outputs": [
    {
     "data": {
      "image/png": "[encoded data removed]",
      "text/plain": [
       "<Figure size 432x288 with 1 Axes>"
      ]
     },
     "metadata": {
      "tags": []
     },
     "output_type": "display_data"
    }
   ],
   "source": [
    "# And a heat map...\n",
    "heat_map = [ prediction['probabilities'] for prediction in predictions]\n",
    "\n",
    "show_heat_map(heat_map) "
   ]
  },
  {
   "cell_type": "markdown",
   "metadata": {
    "colab_type": "text",
    "id": "UxtGqrH08Ifm"
   },
   "source": [
    "### Extra... \n",
    "\n",
    "What happens if we try to look at the 'animals' test with the 'num' network?"
   ]
  },
  {
   "cell_type": "code",
   "execution_count": 0,
   "metadata": {
    "colab": {
     "base_uri": "https://localhost:8080/",
     "height": 302
    },
    "colab_type": "code",
    "executionInfo": {
     "elapsed": 726,
     "status": "ok",
     "timestamp": 1564026993757,
     "user": {
      "displayName": "Martin Andrews",
      "photoUrl": "https://lh6.googleusercontent.com/-9s7FT8dDAtM/AAAAAAAAAAI/AAAAAAAAD9k/qYHlH1aLI5Y/s64/photo.jpg",
      "userId": "12875174896493011932"
     },
     "user_tz": -480
    },
    "id": "zbpXKdrq8Ifn",
    "outputId": "3913cad5-a6ed-4e64-c0e2-520b8eb33d6a"
   },
   "outputs": [
    {
     "name": "stdout",
     "output_type": "stream",
     "text": [
      "stamps.shape: (20, 32, 64)\n",
      "labels.shape: (20,)\n"
     ]
    },
    {
     "data": {
      "image/png": "[encoded data removed]",
      "text/plain": [
       "<Figure size 432x288 with 1 Axes>"
      ]
     },
     "metadata": {
      "tags": []
     },
     "output_type": "display_data"
    }
   ],
   "source": [
    "dataset_animals = pickle.load(open(os.path.join('data', 'animals.pkl'), 'rb'))\n",
    "\n",
    "predictions_animals = get_predictions_for_dataset(dataset_animals)\n",
    "\n",
    "heat_map = [ p['probabilities'] for p in predictions_animals]\n",
    "\n",
    "show_heat_map(heat_map, [ p['word'] for p in predictions_animals])"
   ]
  },
  {
   "cell_type": "code",
   "execution_count": 0,
   "metadata": {
    "colab": {
     "base_uri": "https://localhost:8080/",
     "height": 269
    },
    "colab_type": "code",
    "executionInfo": {
     "elapsed": 756,
     "status": "ok",
     "timestamp": 1564027071872,
     "user": {
      "displayName": "Martin Andrews",
      "photoUrl": "https://lh6.googleusercontent.com/-9s7FT8dDAtM/AAAAAAAAAAI/AAAAAAAAD9k/qYHlH1aLI5Y/s64/photo.jpg",
      "userId": "12875174896493011932"
     },
     "user_tz": -480
    },
    "id": "dWrQ8rcg8Ifr",
    "outputId": "ec82713c-f995-454b-8171-552bb4803157"
   },
   "outputs": [
    {
     "data": {
      "image/png": "[encoded data removed]",
      "text/plain": [
       "<Figure size 432x288 with 1 Axes>"
      ]
     },
     "metadata": {
      "tags": []
     },
     "output_type": "display_data"
    }
   ],
   "source": [
    "heat_map = [ p['logits'] for p in predictions_animals]\n",
    "show_heat_map(heat_map, [ p['word'] for p in predictions_animals])"
   ]
  },
  {
   "cell_type": "code",
   "execution_count": 0,
   "metadata": {
    "colab": {
     "base_uri": "https://localhost:8080/",
     "height": 138
    },
    "colab_type": "code",
    "executionInfo": {
     "elapsed": 1506,
     "status": "ok",
     "timestamp": 1564027085408,
     "user": {
      "displayName": "Martin Andrews",
      "photoUrl": "https://lh6.googleusercontent.com/-9s7FT8dDAtM/AAAAAAAAAAI/AAAAAAAAD9k/qYHlH1aLI5Y/s64/photo.jpg",
      "userId": "12875174896493011932"
     },
     "user_tz": -480
    },
    "id": "aaj_8mDW8Ifw",
    "outputId": "63e6e857-8044-48c5-c019-a3a224d31bcd"
   },
   "outputs": [
    {
     "name": "stderr",
     "output_type": "stream",
     "text": [
      "/usr/local/lib/python3.6/dist-packages/sklearn/svm/base.py:929: ConvergenceWarning: Liblinear failed to converge, increase the number of iterations.\n",
      "  \"the number of iterations.\", ConvergenceWarning)\n"
     ]
    },
    {
     "data": {
      "text/plain": [
       "LinearSVC(C=1.0, class_weight=None, dual=True, fit_intercept=True,\n",
       "          intercept_scaling=1, loss='squared_hinge', max_iter=1000,\n",
       "          multi_class='ovr', penalty='l2', random_state=None, tol=0.0001,\n",
       "          verbose=0)"
      ]
     },
     "execution_count": 23,
     "metadata": {
      "tags": []
     },
     "output_type": "execute_result"
    }
   ],
   "source": [
    "from sklearn import svm\n",
    "\n",
    "animal_features, animal_targets=[],[]\n",
    "for p in predictions_animals:\n",
    "    #animal_features.append( p['probabilities'] )\n",
    "    animal_features.append( p['logits'] )\n",
    "    animal_targets.append( p['label'] )\n",
    "\n",
    "animals_from_numbers_svm_classifier = svm.LinearSVC()\n",
    "animals_from_numbers_svm_classifier.fit(animal_features, animal_targets) # learn from the data (QUICK!) "
   ]
  },
  {
   "cell_type": "code",
   "execution_count": 0,
   "metadata": {
    "colab": {
     "base_uri": "https://localhost:8080/",
     "height": 168
    },
    "colab_type": "code",
    "executionInfo": {
     "elapsed": 764,
     "status": "ok",
     "timestamp": 1564027102296,
     "user": {
      "displayName": "Martin Andrews",
      "photoUrl": "https://lh6.googleusercontent.com/-9s7FT8dDAtM/AAAAAAAAAAI/AAAAAAAAD9k/qYHlH1aLI5Y/s64/photo.jpg",
      "userId": "12875174896493011932"
     },
     "user_tz": -480
    },
    "id": "orE7QTQa8Ifz",
    "outputId": "88a91255-96d8-4ad8-e96b-8c1eb9e3e080"
   },
   "outputs": [
    {
     "name": "stdout",
     "output_type": "stream",
     "text": [
      "stamps.shape: (4, 32, 64)\n",
      "labels.shape: (4,)\n",
      "\n",
      "\n",
      "animals class predictions from SVM classifier based on digits-CNN output\n",
      "Sound[0] is 'cat' - predicted class[0] = 'cat'\n",
      "Sound[1] is 'dog' - predicted class[1] = 'dog'\n",
      "Sound[2] is 'fox' - predicted class[2] = 'fox'\n",
      "Sound[3] is 'bird' - predicted class[3] = 'bird'\n"
     ]
    }
   ],
   "source": [
    "dataset_animals_test = pickle.load(open(os.path.join('data', 'animals-test.pkl'), 'rb'))\n",
    "\n",
    "predictions_animals_test = get_predictions_for_dataset(dataset_animals_test)\n",
    "\n",
    "print('\\n\\nanimals class predictions from SVM classifier based on digits-CNN output')\n",
    "for i,p in enumerate(predictions_animals_test):\n",
    "    #svm_prediction = animals_from_numbers_svm_classifier.predict( p['probabilities'].reshape(1,-1) )\n",
    "    svm_prediction = animals_from_numbers_svm_classifier.predict( p['logits'].reshape(1,-1) )\n",
    "    #decision     = animals_from_numbers_svm_classifier.decision_function([ np_logits[0] ])\n",
    "    \n",
    "    print(\"Sound[%d] is '%s' - predicted class[%d] = '%s'\" % (\n",
    "            i, dataset_animals['words'][i], \n",
    "            svm_prediction, dataset_animals['words'][svm_prediction[0]],))\n"
   ]
  },
  {
   "cell_type": "markdown",
   "metadata": {
    "colab_type": "text",
    "id": "ZYt9RUMr8If2"
   },
   "source": [
    "... Any good? ..."
   ]
  },
  {
   "cell_type": "code",
   "execution_count": 0,
   "metadata": {
    "colab": {},
    "colab_type": "code",
    "id": "FbCsQrhZ8If3"
   },
   "outputs": [],
   "source": []
  }
 ],
 "metadata": {
  "accelerator": "GPU",
  "colab": {
   "collapsed_sections": [],
   "name": "Copy of SpeechRecognition_Learn",
   "provenance": [
    {
     "file_id": "1h0bPMUnV-7E8VdsfqS-c0WwWYEgEdVNT",
     "timestamp": 1582086528635
    },
    {
     "file_id": "https://github.com/mdda/cnn-speech-mnist/blob/master/SpeechRecognition_Learn.ipynb",
     "timestamp": 1559877425320
    }
   ]
  },
  "kernelspec": {
   "display_name": "Python 3",
   "language": "python",
   "name": "python3"
  },
  "language_info": {
   "codemirror_mode": {
    "name": "ipython",
    "version": 3
   },
   "file_extension": ".py",
   "mimetype": "text/x-python",
   "name": "python",
   "nbconvert_exporter": "python",
   "pygments_lexer": "ipython3",
   "version": "3.7.4"
  }
 },
 "nbformat": 4,
 "nbformat_minor": 1
}
