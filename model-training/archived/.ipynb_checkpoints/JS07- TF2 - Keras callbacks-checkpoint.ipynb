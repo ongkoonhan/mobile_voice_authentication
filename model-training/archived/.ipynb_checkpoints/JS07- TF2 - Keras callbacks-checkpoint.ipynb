{
 "cells": [
  {
   "cell_type": "code",
   "execution_count": 0,
   "metadata": {
    "colab": {
     "base_uri": "https://localhost:8080/",
     "height": 35
    },
    "colab_type": "code",
    "executionInfo": {
     "elapsed": 1024,
     "status": "ok",
     "timestamp": 1582012024491,
     "user": {
      "displayName": "Sam Witteveen",
      "photoUrl": "https://lh3.googleusercontent.com/a-/AAuE7mC5mOPZbrVQ8_EYBXQ8Mh68zMmcun3gmN6SH2Ww=s64",
      "userId": "13451642680591748340"
     },
     "user_tz": -480
    },
    "id": "1DZK7pOUZ6wt",
    "outputId": "b2666346-4c04-48bd-9f15-7015cc07336f"
   },
   "outputs": [
    {
     "name": "stdout",
     "output_type": "stream",
     "text": [
      "TensorFlow 2.x selected.\n"
     ]
    }
   ],
   "source": [
    "%tensorflow_version 2.x"
   ]
  },
  {
   "cell_type": "markdown",
   "metadata": {
    "colab_type": "text",
    "id": "X6EOUvZ29KWO"
   },
   "source": [
    "## Testing for GPU\n",
    "To Test if you have GPU set up\n",
    "\n",
    "Run the Cell below\n",
    "\n",
    "if no GPU is found press Runtime (in the menu at the top) and choose \"Change Runtime Type\" to GPU"
   ]
  },
  {
   "cell_type": "code",
   "execution_count": 0,
   "metadata": {
    "colab": {
     "base_uri": "https://localhost:8080/",
     "height": 35
    },
    "colab_type": "code",
    "executionInfo": {
     "elapsed": 9945,
     "status": "ok",
     "timestamp": 1582012033418,
     "user": {
      "displayName": "Sam Witteveen",
      "photoUrl": "https://lh3.googleusercontent.com/a-/AAuE7mC5mOPZbrVQ8_EYBXQ8Mh68zMmcun3gmN6SH2Ww=s64",
      "userId": "13451642680591748340"
     },
     "user_tz": -480
    },
    "id": "2gdXqj0o9Ip4",
    "outputId": "f05d5988-f57f-461b-dd1e-de5805f99238"
   },
   "outputs": [
    {
     "name": "stdout",
     "output_type": "stream",
     "text": [
      "Found GPU at: /device:GPU:0\n"
     ]
    }
   ],
   "source": [
    "import tensorflow as tf\n",
    "device_name = tf.test.gpu_device_name()\n",
    "if device_name != '/device:GPU:0':\n",
    "  raise SystemError('GPU device not found')\n",
    "print('Found GPU at: {}'.format(device_name))"
   ]
  },
  {
   "cell_type": "markdown",
   "metadata": {
    "colab_type": "text",
    "id": "kWef1NvKGczH"
   },
   "source": [
    "## Keras Callbacks\n",
    "\n",
    "This is to show implementations of Keras Callbacks and how to use them\n",
    "\n",
    "- Basic History and plotting  \n",
    "- Model checkpoints  \n",
    "- Early Stopping  \n",
    "- Learning Rate Scheduler  \n",
    "- ReduceLROnPlateau  \n",
    "- LambdaCallback\n",
    "- Custom Callback  "
   ]
  },
  {
   "cell_type": "markdown",
   "metadata": {
    "colab_type": "text",
    "id": "-_40C_H5GczI"
   },
   "source": [
    "### Set up a model"
   ]
  },
  {
   "cell_type": "code",
   "execution_count": 0,
   "metadata": {
    "colab": {},
    "colab_type": "code",
    "id": "T7QANXfPGczJ"
   },
   "outputs": [],
   "source": [
    "%matplotlib inline\n",
    "import matplotlib.pyplot as plt\n",
    "import tensorflow.keras\n",
    "from tensorflow.keras.datasets import mnist\n",
    "from tensorflow.keras.models import Sequential\n",
    "from tensorflow.keras.layers import Dense, Dropout, Flatten\n",
    "from tensorflow.keras.layers import Conv2D, MaxPooling2D\n",
    "from tensorflow.keras.optimizers import RMSprop\n",
    "from tensorflow.keras.callbacks import ModelCheckpoint, Callback, ReduceLROnPlateau, LearningRateScheduler, EarlyStopping, TensorBoard\n",
    "from tensorflow.keras.callbacks import LambdaCallback, CSVLogger\n",
    "from tensorflow.keras import backend as K\n",
    "\n",
    "import tensorflow as tf\n",
    "\n"
   ]
  },
  {
   "cell_type": "code",
   "execution_count": 0,
   "metadata": {
    "colab": {
     "base_uri": "https://localhost:8080/",
     "height": 52
    },
    "colab_type": "code",
    "executionInfo": {
     "elapsed": 1030,
     "status": "ok",
     "timestamp": 1582012083358,
     "user": {
      "displayName": "Sam Witteveen",
      "photoUrl": "https://lh3.googleusercontent.com/a-/AAuE7mC5mOPZbrVQ8_EYBXQ8Mh68zMmcun3gmN6SH2Ww=s64",
      "userId": "13451642680591748340"
     },
     "user_tz": -480
    },
    "id": "_yjZMHPMGczP",
    "outputId": "c5d5c998-fa98-4161-d7ac-24e3ddfda71a"
   },
   "outputs": [
    {
     "name": "stdout",
     "output_type": "stream",
     "text": [
      "2.2.4-tf\n",
      "2.1.0\n"
     ]
    }
   ],
   "source": [
    "print(tf.keras.__version__)\n",
    "print(tf.__version__)"
   ]
  },
  {
   "cell_type": "code",
   "execution_count": 0,
   "metadata": {
    "colab": {
     "base_uri": "https://localhost:8080/",
     "height": 86
    },
    "colab_type": "code",
    "executionInfo": {
     "elapsed": 6332,
     "status": "ok",
     "timestamp": 1582012091975,
     "user": {
      "displayName": "Sam Witteveen",
      "photoUrl": "https://lh3.googleusercontent.com/a-/AAuE7mC5mOPZbrVQ8_EYBXQ8Mh68zMmcun3gmN6SH2Ww=s64",
      "userId": "13451642680591748340"
     },
     "user_tz": -480
    },
    "id": "jbr6rIgLGczT",
    "outputId": "786cc99b-50f1-4e1a-f6bd-5d0331b06a61"
   },
   "outputs": [
    {
     "name": "stdout",
     "output_type": "stream",
     "text": [
      "Downloading data from https://storage.googleapis.com/tensorflow/tf-keras-datasets/mnist.npz\n",
      "11493376/11490434 [==============================] - 0s 0us/step\n",
      "60000 train samples\n",
      "10000 test samples\n"
     ]
    }
   ],
   "source": [
    "batch_size = 128\n",
    "num_classes = 10\n",
    "epochs = 10\n",
    "\n",
    "# the data, shuffled and split between train and test sets\n",
    "(x_train, y_train), (x_test, y_test) = mnist.load_data()\n",
    "\n",
    "x_train = x_train.reshape(60000, 784)\n",
    "x_test = x_test.reshape(10000, 784)\n",
    "x_train = x_train.astype('float32')\n",
    "x_test = x_test.astype('float32')\n",
    "x_train /= 255\n",
    "x_test /= 255\n",
    "print(x_train.shape[0], 'train samples')\n",
    "print(x_test.shape[0], 'test samples')"
   ]
  },
  {
   "cell_type": "code",
   "execution_count": 0,
   "metadata": {
    "colab": {},
    "colab_type": "code",
    "id": "sL8Fc_CqGczW"
   },
   "outputs": [],
   "source": [
    "# convert class vectors to binary class matrices\n",
    "y_train = tf.keras.utils.to_categorical(y_train, num_classes)\n",
    "y_test = tf.keras.utils.to_categorical(y_test, num_classes)"
   ]
  },
  {
   "cell_type": "code",
   "execution_count": 0,
   "metadata": {
    "colab": {
     "base_uri": "https://localhost:8080/",
     "height": 328
    },
    "colab_type": "code",
    "executionInfo": {
     "elapsed": 780,
     "status": "ok",
     "timestamp": 1582012141765,
     "user": {
      "displayName": "Sam Witteveen",
      "photoUrl": "https://lh3.googleusercontent.com/a-/AAuE7mC5mOPZbrVQ8_EYBXQ8Mh68zMmcun3gmN6SH2Ww=s64",
      "userId": "13451642680591748340"
     },
     "user_tz": -480
    },
    "id": "nNkc7iZcGczZ",
    "outputId": "4852f0a0-67eb-4fb7-a4cd-fef03677d25b"
   },
   "outputs": [
    {
     "name": "stdout",
     "output_type": "stream",
     "text": [
      "Model: \"sequential_1\"\n",
      "_________________________________________________________________\n",
      "Layer (type)                 Output Shape              Param #   \n",
      "=================================================================\n",
      "Dense1 (Dense)               (None, 512)               401920    \n",
      "_________________________________________________________________\n",
      "dropout_2 (Dropout)          (None, 512)               0         \n",
      "_________________________________________________________________\n",
      "Dense2 (Dense)               (None, 512)               262656    \n",
      "_________________________________________________________________\n",
      "dropout_3 (Dropout)          (None, 512)               0         \n",
      "_________________________________________________________________\n",
      "dense_1 (Dense)              (None, 10)                5130      \n",
      "=================================================================\n",
      "Total params: 669,706\n",
      "Trainable params: 669,706\n",
      "Non-trainable params: 0\n",
      "_________________________________________________________________\n"
     ]
    }
   ],
   "source": [
    "model = Sequential()\n",
    "model.add(Dense(512, activation='relu', input_shape=(784,),name='Dense1'))\n",
    "model.add(Dropout(0.2))\n",
    "model.add(Dense(512, activation='relu',name='Dense2'))\n",
    "model.add(Dropout(0.2))\n",
    "model.add(Dense(10, activation='softmax'))\n",
    "\n",
    "model.summary()"
   ]
  },
  {
   "cell_type": "code",
   "execution_count": 0,
   "metadata": {
    "colab": {},
    "colab_type": "code",
    "id": "CP39yLliGczc"
   },
   "outputs": [],
   "source": [
    "model.compile(loss='categorical_crossentropy',\n",
    "              optimizer=RMSprop(),\n",
    "              metrics=['accuracy'])"
   ]
  },
  {
   "cell_type": "markdown",
   "metadata": {
    "colab_type": "text",
    "id": "lF0gOJWNGcze"
   },
   "source": [
    "### Basic History and ploting"
   ]
  },
  {
   "cell_type": "code",
   "execution_count": 0,
   "metadata": {
    "colab": {
     "base_uri": "https://localhost:8080/",
     "height": 242
    },
    "colab_type": "code",
    "executionInfo": {
     "elapsed": 12910,
     "status": "ok",
     "timestamp": 1582012117328,
     "user": {
      "displayName": "Sam Witteveen",
      "photoUrl": "https://lh3.googleusercontent.com/a-/AAuE7mC5mOPZbrVQ8_EYBXQ8Mh68zMmcun3gmN6SH2Ww=s64",
      "userId": "13451642680591748340"
     },
     "user_tz": -480
    },
    "id": "CtNTvZSGGczf",
    "outputId": "002e26b0-6620-49d1-8699-ac422e03c72d"
   },
   "outputs": [
    {
     "name": "stdout",
     "output_type": "stream",
     "text": [
      "Train on 60000 samples, validate on 10000 samples\n",
      "Epoch 1/5\n",
      "60000/60000 - 4s - loss: 0.2444 - accuracy: 0.9237 - val_loss: 0.1180 - val_accuracy: 0.9636\n",
      "Epoch 2/5\n",
      "60000/60000 - 2s - loss: 0.1027 - accuracy: 0.9692 - val_loss: 0.0911 - val_accuracy: 0.9730\n",
      "Epoch 3/5\n",
      "60000/60000 - 2s - loss: 0.0761 - accuracy: 0.9777 - val_loss: 0.0743 - val_accuracy: 0.9792\n",
      "Epoch 4/5\n",
      "60000/60000 - 2s - loss: 0.0600 - accuracy: 0.9819 - val_loss: 0.0665 - val_accuracy: 0.9810\n",
      "Epoch 5/5\n",
      "60000/60000 - 2s - loss: 0.0493 - accuracy: 0.9847 - val_loss: 0.0827 - val_accuracy: 0.9790\n",
      "Test loss: 0.08268512397542509\n",
      "Test accuracy: 0.979\n"
     ]
    }
   ],
   "source": [
    "history = model.fit(x_train, y_train,\n",
    "                    batch_size=batch_size,\n",
    "                    epochs=5,\n",
    "                    verbose=2,\n",
    "                    validation_data=(x_test, y_test))\n",
    "score = model.evaluate(x_test, y_test, verbose=0)\n",
    "print('Test loss:', score[0])\n",
    "print('Test accuracy:', score[1])"
   ]
  },
  {
   "cell_type": "code",
   "execution_count": 0,
   "metadata": {
    "colab": {},
    "colab_type": "code",
    "id": "IrYYDxmpGczi"
   },
   "outputs": [],
   "source": [
    "def plot_train(hist):\n",
    "    h = hist.history\n",
    "    if 'acc' in h:\n",
    "        meas='acc'\n",
    "        loc='lower right'\n",
    "    else:\n",
    "        meas='loss'\n",
    "        loc='upper right'\n",
    "    plt.plot(hist.history[meas])\n",
    "    plt.plot(hist.history['val_'+meas])\n",
    "    plt.title('model '+meas)\n",
    "    plt.ylabel(meas)\n",
    "    plt.xlabel('epoch')\n",
    "    plt.legend(['train', 'validation'], loc=loc)"
   ]
  },
  {
   "cell_type": "code",
   "execution_count": 0,
   "metadata": {
    "colab": {
     "base_uri": "https://localhost:8080/",
     "height": 295
    },
    "colab_type": "code",
    "executionInfo": {
     "elapsed": 883,
     "status": "ok",
     "timestamp": 1582012126309,
     "user": {
      "displayName": "Sam Witteveen",
      "photoUrl": "https://lh3.googleusercontent.com/a-/AAuE7mC5mOPZbrVQ8_EYBXQ8Mh68zMmcun3gmN6SH2Ww=s64",
      "userId": "13451642680591748340"
     },
     "user_tz": -480
    },
    "id": "7DQW_6yAGczk",
    "outputId": "e889ee18-68e2-4909-d1ef-5cb18bbe2750"
   },
   "outputs": [
    {
     "data": {
      "image/png": "[encoded data removed]",
      "text/plain": [
       "<Figure size 432x288 with 1 Axes>"
      ]
     },
     "metadata": {
      "tags": []
     },
     "output_type": "display_data"
    }
   ],
   "source": [
    "plot_train(history)"
   ]
  },
  {
   "cell_type": "markdown",
   "metadata": {
    "colab_type": "text",
    "id": "Fhzx-BqFGczl"
   },
   "source": [
    "### Model Checkpoints\n",
    "\n",
    "args \n",
    "- filepath - str  can use formating to put epoch number etc {epoc}\n",
    "- monitor - qunatity to monitor  \n",
    "- verbose - 0 or 1  \n",
    "- save_best_only - only save if better than before  \n",
    "- mode - use 'auto'  \n",
    "- save_weights_only - if false then will save whole model\n",
    "- period - the interval between epochs  "
   ]
  },
  {
   "cell_type": "markdown",
   "metadata": {
    "colab_type": "text",
    "id": "XLfiKxxK93vh"
   },
   "source": []
  },
  {
   "cell_type": "code",
   "execution_count": 0,
   "metadata": {
    "colab": {
     "base_uri": "https://localhost:8080/",
     "height": 35
    },
    "colab_type": "code",
    "executionInfo": {
     "elapsed": 4582,
     "status": "ok",
     "timestamp": 1582012310055,
     "user": {
      "displayName": "Sam Witteveen",
      "photoUrl": "https://lh3.googleusercontent.com/a-/AAuE7mC5mOPZbrVQ8_EYBXQ8Mh68zMmcun3gmN6SH2Ww=s64",
      "userId": "13451642680591748340"
     },
     "user_tz": -480
    },
    "id": "vb0THk4Q94eu",
    "outputId": "15b70bf8-5948-4cbc-861c-74f287e1b605"
   },
   "outputs": [
    {
     "name": "stdout",
     "output_type": "stream",
     "text": [
      "checkpoints  sample_data\n"
     ]
    }
   ],
   "source": [
    "!mkdir checkpoints\n",
    "!ls"
   ]
  },
  {
   "cell_type": "code",
   "execution_count": 0,
   "metadata": {
    "colab": {},
    "colab_type": "code",
    "id": "-3eFE4-VGczm"
   },
   "outputs": [],
   "source": [
    "checkpoint = ModelCheckpoint('./checkpoints/best_weights.hdf5', monitor='val_accuracy', verbose=1, save_best_only=True, mode='auto')"
   ]
  },
  {
   "cell_type": "code",
   "execution_count": 0,
   "metadata": {
    "colab": {},
    "colab_type": "code",
    "id": "akMNVj4u4Y3J"
   },
   "outputs": [],
   "source": [
    "model.compile(loss='categorical_crossentropy',\n",
    "              optimizer=RMSprop(),\n",
    "              metrics=['accuracy'])"
   ]
  },
  {
   "cell_type": "code",
   "execution_count": 0,
   "metadata": {
    "colab": {
     "base_uri": "https://localhost:8080/",
     "height": 763
    },
    "colab_type": "code",
    "executionInfo": {
     "elapsed": 20838,
     "status": "ok",
     "timestamp": 1582012334651,
     "user": {
      "displayName": "Sam Witteveen",
      "photoUrl": "https://lh3.googleusercontent.com/a-/AAuE7mC5mOPZbrVQ8_EYBXQ8Mh68zMmcun3gmN6SH2Ww=s64",
      "userId": "13451642680591748340"
     },
     "user_tz": -480
    },
    "id": "So5IqbuTGczo",
    "outputId": "9cbb867f-2362-4d73-f686-cab486fc7a97"
   },
   "outputs": [
    {
     "name": "stdout",
     "output_type": "stream",
     "text": [
      "Train on 60000 samples, validate on 10000 samples\n",
      "Epoch 1/10\n",
      "59136/60000 [============================>.] - ETA: 0s - loss: 0.2452 - accuracy: 0.9235\n",
      "Epoch 00001: val_accuracy improved from -inf to 0.96580, saving model to ./checkpoints/best_weights.hdf5\n",
      "60000/60000 [==============================] - 2s 41us/sample - loss: 0.2435 - accuracy: 0.9242 - val_loss: 0.1098 - val_accuracy: 0.9658\n",
      "Epoch 2/10\n",
      "58496/60000 [============================>.] - ETA: 0s - loss: 0.1026 - accuracy: 0.9686\n",
      "Epoch 00002: val_accuracy improved from 0.96580 to 0.97610, saving model to ./checkpoints/best_weights.hdf5\n",
      "60000/60000 [==============================] - 2s 33us/sample - loss: 0.1022 - accuracy: 0.9687 - val_loss: 0.0829 - val_accuracy: 0.9761\n",
      "Epoch 3/10\n",
      "58240/60000 [============================>.] - ETA: 0s - loss: 0.0744 - accuracy: 0.9782\n",
      "Epoch 00003: val_accuracy improved from 0.97610 to 0.97840, saving model to ./checkpoints/best_weights.hdf5\n",
      "60000/60000 [==============================] - 2s 33us/sample - loss: 0.0741 - accuracy: 0.9782 - val_loss: 0.0714 - val_accuracy: 0.9784\n",
      "Epoch 4/10\n",
      "59008/60000 [============================>.] - ETA: 0s - loss: 0.0612 - accuracy: 0.9818\n",
      "Epoch 00004: val_accuracy improved from 0.97840 to 0.97860, saving model to ./checkpoints/best_weights.hdf5\n",
      "60000/60000 [==============================] - 2s 32us/sample - loss: 0.0613 - accuracy: 0.9816 - val_loss: 0.0818 - val_accuracy: 0.9786\n",
      "Epoch 5/10\n",
      "59264/60000 [============================>.] - ETA: 0s - loss: 0.0488 - accuracy: 0.9852\n",
      "Epoch 00005: val_accuracy improved from 0.97860 to 0.98010, saving model to ./checkpoints/best_weights.hdf5\n",
      "60000/60000 [==============================] - 2s 34us/sample - loss: 0.0488 - accuracy: 0.9852 - val_loss: 0.0770 - val_accuracy: 0.9801\n",
      "Epoch 6/10\n",
      "59648/60000 [============================>.] - ETA: 0s - loss: 0.0429 - accuracy: 0.9871\n",
      "Epoch 00006: val_accuracy improved from 0.98010 to 0.98110, saving model to ./checkpoints/best_weights.hdf5\n",
      "60000/60000 [==============================] - 2s 34us/sample - loss: 0.0429 - accuracy: 0.9871 - val_loss: 0.0766 - val_accuracy: 0.9811\n",
      "Epoch 7/10\n",
      "58752/60000 [============================>.] - ETA: 0s - loss: 0.0393 - accuracy: 0.9884\n",
      "Epoch 00007: val_accuracy did not improve from 0.98110\n",
      "60000/60000 [==============================] - 2s 32us/sample - loss: 0.0395 - accuracy: 0.9883 - val_loss: 0.0841 - val_accuracy: 0.9795\n",
      "Epoch 8/10\n",
      "58624/60000 [============================>.] - ETA: 0s - loss: 0.0345 - accuracy: 0.9904\n",
      "Epoch 00008: val_accuracy did not improve from 0.98110\n",
      "60000/60000 [==============================] - 2s 33us/sample - loss: 0.0343 - accuracy: 0.9905 - val_loss: 0.0770 - val_accuracy: 0.9801\n",
      "Epoch 9/10\n",
      "58624/60000 [============================>.] - ETA: 0s - loss: 0.0312 - accuracy: 0.9907\n",
      "Epoch 00009: val_accuracy improved from 0.98110 to 0.98160, saving model to ./checkpoints/best_weights.hdf5\n",
      "60000/60000 [==============================] - 2s 33us/sample - loss: 0.0313 - accuracy: 0.9907 - val_loss: 0.0888 - val_accuracy: 0.9816\n",
      "Epoch 10/10\n",
      "59264/60000 [============================>.] - ETA: 0s - loss: 0.0292 - accuracy: 0.9917\n",
      "Epoch 00010: val_accuracy did not improve from 0.98160\n",
      "60000/60000 [==============================] - 2s 32us/sample - loss: 0.0295 - accuracy: 0.9917 - val_loss: 0.1030 - val_accuracy: 0.9787\n"
     ]
    },
    {
     "data": {
      "text/plain": [
       "<tensorflow.python.keras.callbacks.History at 0x7f3a4db067f0>"
      ]
     },
     "execution_count": 19,
     "metadata": {
      "tags": []
     },
     "output_type": "execute_result"
    }
   ],
   "source": [
    "model.fit(x_train, y_train,\n",
    "                    batch_size=batch_size,\n",
    "                    epochs=epochs,\n",
    "                    verbose=1,\n",
    "                    validation_data=(x_test, y_test),\n",
    "                    callbacks=[checkpoint])"
   ]
  },
  {
   "cell_type": "code",
   "execution_count": 0,
   "metadata": {
    "colab": {
     "base_uri": "https://localhost:8080/",
     "height": 35
    },
    "colab_type": "code",
    "executionInfo": {
     "elapsed": 2751,
     "status": "ok",
     "timestamp": 1582012361714,
     "user": {
      "displayName": "Sam Witteveen",
      "photoUrl": "https://lh3.googleusercontent.com/a-/AAuE7mC5mOPZbrVQ8_EYBXQ8Mh68zMmcun3gmN6SH2Ww=s64",
      "userId": "13451642680591748340"
     },
     "user_tz": -480
    },
    "id": "lhRuMh3TrIvU",
    "outputId": "74ddaad3-286a-4114-b4f1-98d3278d24dc"
   },
   "outputs": [
    {
     "name": "stdout",
     "output_type": "stream",
     "text": [
      "best_weights.hdf5\n"
     ]
    }
   ],
   "source": [
    "!ls checkpoints"
   ]
  },
  {
   "cell_type": "code",
   "execution_count": 0,
   "metadata": {
    "colab": {
     "base_uri": "https://localhost:8080/",
     "height": 35
    },
    "colab_type": "code",
    "executionInfo": {
     "elapsed": 4282,
     "status": "ok",
     "timestamp": 1582012384041,
     "user": {
      "displayName": "Sam Witteveen",
      "photoUrl": "https://lh3.googleusercontent.com/a-/AAuE7mC5mOPZbrVQ8_EYBXQ8Mh68zMmcun3gmN6SH2Ww=s64",
      "userId": "13451642680591748340"
     },
     "user_tz": -480
    },
    "id": "txXENk5n-QYP",
    "outputId": "32af709b-2d5a-4504-f7c6-3d156dcfb3a4"
   },
   "outputs": [
    {
     "name": "stdout",
     "output_type": "stream",
     "text": [
      "checkpoints  logs  sample_data\n"
     ]
    }
   ],
   "source": [
    "!mkdir logs\n",
    "!ls"
   ]
  },
  {
   "cell_type": "markdown",
   "metadata": {
    "colab_type": "text",
    "id": "ewM8SlhfGcz6"
   },
   "source": [
    "### Early Stopping - stop training when a monitored quanity has stopped improving\n",
    "args\n",
    "- monitor : what to monitor 'val_loss', 'acc'\n",
    "- min_delta :minimum change to qualify as improvement\n",
    "- patience : number of epocs with no improvement before you stop\n",
    "- verbose : verbosity mode\n",
    "- mode : 'auto' , can be 'min' or 'max' determines direction of improvement. Auto = based on monitor"
   ]
  },
  {
   "cell_type": "code",
   "execution_count": 0,
   "metadata": {
    "colab": {},
    "colab_type": "code",
    "id": "_H9Q2a5yGcz7"
   },
   "outputs": [],
   "source": [
    "early_stopping = EarlyStopping(monitor='val_loss',min_delta=0,patience=3,verbose=0,mode='auto')"
   ]
  },
  {
   "cell_type": "code",
   "execution_count": 0,
   "metadata": {
    "colab": {
     "base_uri": "https://localhost:8080/",
     "height": 279
    },
    "colab_type": "code",
    "executionInfo": {
     "elapsed": 13002,
     "status": "ok",
     "timestamp": 1582012570087,
     "user": {
      "displayName": "Sam Witteveen",
      "photoUrl": "https://lh3.googleusercontent.com/a-/AAuE7mC5mOPZbrVQ8_EYBXQ8Mh68zMmcun3gmN6SH2Ww=s64",
      "userId": "13451642680591748340"
     },
     "user_tz": -480
    },
    "id": "3m6dyc74Gcz9",
    "outputId": "b2798ffa-5175-4049-8757-eac65c286e9b"
   },
   "outputs": [
    {
     "name": "stdout",
     "output_type": "stream",
     "text": [
      "Train on 60000 samples, validate on 10000 samples\n",
      "Epoch 1/10\n",
      "60000/60000 [==============================] - 2s 33us/sample - loss: 0.0261 - accuracy: 0.9924 - val_loss: 0.0960 - val_accuracy: 0.9820\n",
      "Epoch 2/10\n",
      "60000/60000 [==============================] - 2s 33us/sample - loss: 0.0262 - accuracy: 0.9928 - val_loss: 0.1062 - val_accuracy: 0.9830\n",
      "Epoch 3/10\n",
      "60000/60000 [==============================] - 2s 33us/sample - loss: 0.0229 - accuracy: 0.9937 - val_loss: 0.0927 - val_accuracy: 0.9831\n",
      "Epoch 4/10\n",
      "60000/60000 [==============================] - 2s 34us/sample - loss: 0.0233 - accuracy: 0.9934 - val_loss: 0.1267 - val_accuracy: 0.9790\n",
      "Epoch 5/10\n",
      "60000/60000 [==============================] - 2s 34us/sample - loss: 0.0209 - accuracy: 0.9944 - val_loss: 0.1158 - val_accuracy: 0.9822\n",
      "Epoch 6/10\n",
      "60000/60000 [==============================] - 2s 34us/sample - loss: 0.0204 - accuracy: 0.9944 - val_loss: 0.1174 - val_accuracy: 0.9842\n"
     ]
    },
    {
     "data": {
      "text/plain": [
       "<tensorflow.python.keras.callbacks.History at 0x7f3a4d9a6898>"
      ]
     },
     "execution_count": 23,
     "metadata": {
      "tags": []
     },
     "output_type": "execute_result"
    }
   ],
   "source": [
    "model.fit(x_train, y_train,\n",
    "                    batch_size=batch_size,\n",
    "                    epochs=epochs,\n",
    "                    verbose=1,\n",
    "                    validation_data=(x_test, y_test),\n",
    "                    callbacks=[early_stopping])"
   ]
  },
  {
   "cell_type": "markdown",
   "metadata": {
    "colab_type": "text",
    "id": "n_nNbM2uGcz_"
   },
   "source": [
    "above stopped after 3 epochs instead of 10 as validation loss didn't get better"
   ]
  },
  {
   "cell_type": "markdown",
   "metadata": {
    "colab_type": "text",
    "id": "ophrgrNSGcz_"
   },
   "source": [
    "### Learning Rate Scheduler\n",
    "arg\n",
    "- schedule - this will be function that takes epoch number(int) and returns new Learning Rate (float) "
   ]
  },
  {
   "cell_type": "markdown",
   "metadata": {
    "colab_type": "text",
    "id": "VA3t30AJGcz_"
   },
   "source": [
    "#### LearningRate = InitialLearningRate * DropRate^floor(Epoch / EpochDrop)"
   ]
  },
  {
   "cell_type": "code",
   "execution_count": 0,
   "metadata": {
    "colab": {},
    "colab_type": "code",
    "id": "4QvA3kSwGc0A"
   },
   "outputs": [],
   "source": [
    "import math\n",
    "\n",
    "# learning rate schedule for dropping every 10 epochs\n",
    "def LRDropping(epoch_number):\n",
    "    initial_lrate = 0.001\n",
    "    drop = 0.9\n",
    "    epochs_drop = 3.0\n",
    "    lrate = initial_lrate * math.pow(drop, math.floor((1+epoch_number)/epochs_drop))\n",
    "    print(lrate)\n",
    "    return lrate"
   ]
  },
  {
   "cell_type": "code",
   "execution_count": 0,
   "metadata": {
    "colab": {
     "base_uri": "https://localhost:8080/",
     "height": 52
    },
    "colab_type": "code",
    "executionInfo": {
     "elapsed": 680,
     "status": "ok",
     "timestamp": 1582012662884,
     "user": {
      "displayName": "Sam Witteveen",
      "photoUrl": "https://lh3.googleusercontent.com/a-/AAuE7mC5mOPZbrVQ8_EYBXQ8Mh68zMmcun3gmN6SH2Ww=s64",
      "userId": "13451642680591748340"
     },
     "user_tz": -480
    },
    "id": "PZZ8gfVeGc0B",
    "outputId": "7db2d918-d31e-491c-c78d-96b2979d39cf"
   },
   "outputs": [
    {
     "name": "stdout",
     "output_type": "stream",
     "text": [
      "0.00059049\n"
     ]
    },
    {
     "data": {
      "text/plain": [
       "0.00059049"
      ]
     },
     "execution_count": 29,
     "metadata": {
      "tags": []
     },
     "output_type": "execute_result"
    }
   ],
   "source": [
    "LRDropping(15)"
   ]
  },
  {
   "cell_type": "code",
   "execution_count": 0,
   "metadata": {
    "colab": {},
    "colab_type": "code",
    "id": "xGl6BTmSGc0D"
   },
   "outputs": [],
   "source": [
    "LRDrop = LearningRateScheduler(LRDropping)"
   ]
  },
  {
   "cell_type": "code",
   "execution_count": 0,
   "metadata": {
    "colab": {},
    "colab_type": "code",
    "id": "6HKkjUBASXnG"
   },
   "outputs": [],
   "source": []
  },
  {
   "cell_type": "code",
   "execution_count": 0,
   "metadata": {
    "colab": {},
    "colab_type": "code",
    "id": "6DZuRxryGc0E"
   },
   "outputs": [],
   "source": [
    "K.set_value(model.optimizer.lr,0.001)"
   ]
  },
  {
   "cell_type": "code",
   "execution_count": 0,
   "metadata": {
    "colab": {
     "base_uri": "https://localhost:8080/",
     "height": 590
    },
    "colab_type": "code",
    "executionInfo": {
     "elapsed": 20247,
     "status": "ok",
     "timestamp": 1582012733580,
     "user": {
      "displayName": "Sam Witteveen",
      "photoUrl": "https://lh3.googleusercontent.com/a-/AAuE7mC5mOPZbrVQ8_EYBXQ8Mh68zMmcun3gmN6SH2Ww=s64",
      "userId": "13451642680591748340"
     },
     "user_tz": -480
    },
    "id": "YnphZGZXGc0G",
    "outputId": "42621112-ce84-47e8-c8a1-788946062ae3"
   },
   "outputs": [
    {
     "name": "stdout",
     "output_type": "stream",
     "text": [
      "Train on 60000 samples, validate on 10000 samples\n",
      "0.001\n",
      "Epoch 1/10\n",
      "60000/60000 [==============================] - 2s 34us/sample - loss: 0.0194 - accuracy: 0.9947 - val_loss: 0.1187 - val_accuracy: 0.9836\n",
      "0.001\n",
      "Epoch 2/10\n",
      "60000/60000 [==============================] - 2s 32us/sample - loss: 0.0188 - accuracy: 0.9948 - val_loss: 0.1250 - val_accuracy: 0.9834\n",
      "0.0009000000000000001\n",
      "Epoch 3/10\n",
      "60000/60000 [==============================] - 2s 33us/sample - loss: 0.0154 - accuracy: 0.9959 - val_loss: 0.1253 - val_accuracy: 0.9821\n",
      "0.0009000000000000001\n",
      "Epoch 4/10\n",
      "60000/60000 [==============================] - 2s 33us/sample - loss: 0.0141 - accuracy: 0.9961 - val_loss: 0.1387 - val_accuracy: 0.9837\n",
      "0.0009000000000000001\n",
      "Epoch 5/10\n",
      "60000/60000 [==============================] - 2s 32us/sample - loss: 0.0143 - accuracy: 0.9963 - val_loss: 0.1403 - val_accuracy: 0.9823\n",
      "0.0008100000000000001\n",
      "Epoch 6/10\n",
      "60000/60000 [==============================] - 2s 32us/sample - loss: 0.0114 - accuracy: 0.9969 - val_loss: 0.1411 - val_accuracy: 0.9833\n",
      "0.0008100000000000001\n",
      "Epoch 7/10\n",
      "60000/60000 [==============================] - 2s 32us/sample - loss: 0.0112 - accuracy: 0.9972 - val_loss: 0.1286 - val_accuracy: 0.9844\n",
      "0.0008100000000000001\n",
      "Epoch 8/10\n",
      "60000/60000 [==============================] - 2s 33us/sample - loss: 0.0108 - accuracy: 0.9972 - val_loss: 0.1507 - val_accuracy: 0.9828\n",
      "0.0007290000000000002\n",
      "Epoch 9/10\n",
      "60000/60000 [==============================] - 2s 32us/sample - loss: 0.0096 - accuracy: 0.9976 - val_loss: 0.1421 - val_accuracy: 0.9840\n",
      "0.0007290000000000002\n",
      "Epoch 10/10\n",
      "60000/60000 [==============================] - 2s 32us/sample - loss: 0.0083 - accuracy: 0.9979 - val_loss: 0.1454 - val_accuracy: 0.9851\n"
     ]
    },
    {
     "data": {
      "text/plain": [
       "<tensorflow.python.keras.callbacks.History at 0x7f3a4d9a66a0>"
      ]
     },
     "execution_count": 32,
     "metadata": {
      "tags": []
     },
     "output_type": "execute_result"
    }
   ],
   "source": [
    "model.fit(x_train, y_train,\n",
    "                    batch_size=batch_size,\n",
    "                    epochs=epochs,\n",
    "                    verbose=1,\n",
    "                    validation_data=(x_test, y_test),\n",
    "                    callbacks=[LRDrop])"
   ]
  },
  {
   "cell_type": "code",
   "execution_count": 0,
   "metadata": {
    "colab": {
     "base_uri": "https://localhost:8080/",
     "height": 35
    },
    "colab_type": "code",
    "executionInfo": {
     "elapsed": 930,
     "status": "ok",
     "timestamp": 1582012747483,
     "user": {
      "displayName": "Sam Witteveen",
      "photoUrl": "https://lh3.googleusercontent.com/a-/AAuE7mC5mOPZbrVQ8_EYBXQ8Mh68zMmcun3gmN6SH2Ww=s64",
      "userId": "13451642680591748340"
     },
     "user_tz": -480
    },
    "id": "FFvcsbdBGc0H",
    "outputId": "1fc6f8bb-d2a3-4a95-f773-e1e40a0e4eb7"
   },
   "outputs": [
    {
     "name": "stdout",
     "output_type": "stream",
     "text": [
      "0.000729\n"
     ]
    }
   ],
   "source": [
    "#print out the learning rate\n",
    "print(K.eval(model.optimizer.lr))"
   ]
  },
  {
   "cell_type": "markdown",
   "metadata": {
    "colab_type": "text",
    "id": "0LgZLvEWGc0J"
   },
   "source": [
    "### ReduceLROnPlateau\n",
    "args\n",
    "- monitor : quality to be monitored eg. 'val_loss' , 'val_acc'\n",
    "- factor : the factor by which the current LR be multiplied  \n",
    "- patience : number of epochs with no improvement  \n",
    "- verbose : 1 = update messages 0 nothing\n",
    "- mode : 'auto'  eg. is improvment up or down 'min' 'max'\n",
    "- epsilon : threshold for measuring the new optimum, to only focus on significant changes  \n",
    "- cooldown :number of epochs to wait before any new changes\n",
    "- min_lr: the lowest lr allowed "
   ]
  },
  {
   "cell_type": "code",
   "execution_count": 0,
   "metadata": {
    "colab": {},
    "colab_type": "code",
    "id": "hOZ6WgCMGc0J"
   },
   "outputs": [],
   "source": [
    "reduce_LR = ReduceLROnPlateau(monitor='val_loss',factor = 0.9, patience=2,cooldown=0, min_lr = 0.00001)"
   ]
  },
  {
   "cell_type": "code",
   "execution_count": 0,
   "metadata": {
    "colab": {},
    "colab_type": "code",
    "id": "FmI5iE1ddHNf"
   },
   "outputs": [],
   "source": [
    "K.set_value(model.optimizer.lr,0.001)"
   ]
  },
  {
   "cell_type": "code",
   "execution_count": 0,
   "metadata": {
    "colab": {
     "base_uri": "https://localhost:8080/",
     "height": 417
    },
    "colab_type": "code",
    "executionInfo": {
     "elapsed": 20070,
     "status": "ok",
     "timestamp": 1582012834607,
     "user": {
      "displayName": "Sam Witteveen",
      "photoUrl": "https://lh3.googleusercontent.com/a-/AAuE7mC5mOPZbrVQ8_EYBXQ8Mh68zMmcun3gmN6SH2Ww=s64",
      "userId": "13451642680591748340"
     },
     "user_tz": -480
    },
    "id": "6TIEdjMCGc0M",
    "outputId": "7b6fbd6b-5078-46d7-ef0c-8059f7bc8728"
   },
   "outputs": [
    {
     "name": "stdout",
     "output_type": "stream",
     "text": [
      "Train on 60000 samples, validate on 10000 samples\n",
      "Epoch 1/10\n",
      "60000/60000 [==============================] - 2s 32us/sample - loss: 0.0151 - accuracy: 0.9962 - val_loss: 0.1677 - val_accuracy: 0.9810\n",
      "Epoch 2/10\n",
      "60000/60000 [==============================] - 2s 32us/sample - loss: 0.0144 - accuracy: 0.9963 - val_loss: 0.1458 - val_accuracy: 0.9831\n",
      "Epoch 3/10\n",
      "60000/60000 [==============================] - 2s 34us/sample - loss: 0.0136 - accuracy: 0.9968 - val_loss: 0.1765 - val_accuracy: 0.9814\n",
      "Epoch 4/10\n",
      "60000/60000 [==============================] - 2s 33us/sample - loss: 0.0159 - accuracy: 0.9965 - val_loss: 0.1633 - val_accuracy: 0.9838\n",
      "Epoch 5/10\n",
      "60000/60000 [==============================] - 2s 32us/sample - loss: 0.0119 - accuracy: 0.9973 - val_loss: 0.1513 - val_accuracy: 0.9844\n",
      "Epoch 6/10\n",
      "60000/60000 [==============================] - 2s 33us/sample - loss: 0.0121 - accuracy: 0.9969 - val_loss: 0.1584 - val_accuracy: 0.9847\n",
      "Epoch 7/10\n",
      "60000/60000 [==============================] - 2s 33us/sample - loss: 0.0102 - accuracy: 0.9974 - val_loss: 0.1795 - val_accuracy: 0.9834\n",
      "Epoch 8/10\n",
      "60000/60000 [==============================] - 2s 33us/sample - loss: 0.0089 - accuracy: 0.9979 - val_loss: 0.1786 - val_accuracy: 0.9829\n",
      "Epoch 9/10\n",
      "60000/60000 [==============================] - 2s 32us/sample - loss: 0.0084 - accuracy: 0.9980 - val_loss: 0.1846 - val_accuracy: 0.9829\n",
      "Epoch 10/10\n",
      "60000/60000 [==============================] - 2s 32us/sample - loss: 0.0072 - accuracy: 0.9984 - val_loss: 0.1901 - val_accuracy: 0.9834\n"
     ]
    },
    {
     "data": {
      "text/plain": [
       "<tensorflow.python.keras.callbacks.History at 0x7f3a4d0eec50>"
      ]
     },
     "execution_count": 36,
     "metadata": {
      "tags": []
     },
     "output_type": "execute_result"
    }
   ],
   "source": [
    "model.fit(x_train, y_train,\n",
    "                    batch_size=batch_size,\n",
    "                    epochs=epochs,\n",
    "                    verbose=1,\n",
    "                    validation_data=(x_test, y_test),\n",
    "                    callbacks=[reduce_LR])"
   ]
  },
  {
   "cell_type": "code",
   "execution_count": 0,
   "metadata": {
    "colab": {
     "base_uri": "https://localhost:8080/",
     "height": 35
    },
    "colab_type": "code",
    "executionInfo": {
     "elapsed": 705,
     "status": "ok",
     "timestamp": 1582012878806,
     "user": {
      "displayName": "Sam Witteveen",
      "photoUrl": "https://lh3.googleusercontent.com/a-/AAuE7mC5mOPZbrVQ8_EYBXQ8Mh68zMmcun3gmN6SH2Ww=s64",
      "userId": "13451642680591748340"
     },
     "user_tz": -480
    },
    "id": "60nxRcHyGc0P",
    "outputId": "bccf65c7-9e75-4b72-d3f7-2294ba9c0c33"
   },
   "outputs": [
    {
     "name": "stdout",
     "output_type": "stream",
     "text": [
      "0.00065610005\n"
     ]
    }
   ],
   "source": [
    "#print out the learning rate\n",
    "print(K.eval(model.optimizer.lr))"
   ]
  },
  {
   "cell_type": "markdown",
   "metadata": {
    "colab_type": "text",
    "id": "u00EDKerGc0Q"
   },
   "source": [
    "### LambdaCallback a way to call anon functions in the callback\n",
    "args\n",
    "- on_epoch_begining - called at begin of epoch -takes epoch,logs\n",
    "- on_epoch_end - called at end of epoch -takes epoch,logs\n",
    "- on_batch_begin _ called a begin of a batch -takes batch,logs\n",
    "- on_batch_end :-takes epoch,logs\n",
    "- on_train_begin - -takes logs\n",
    "- on_train_end - -takes logs"
   ]
  },
  {
   "cell_type": "code",
   "execution_count": 0,
   "metadata": {
    "colab": {},
    "colab_type": "code",
    "id": "etf7iWQLGc0R"
   },
   "outputs": [],
   "source": [
    "lr_print = LambdaCallback(on_epoch_begin=lambda epoch,logs: ))print(\"lr:\",K.eval(model.optimizer.lr)"
   ]
  },
  {
   "cell_type": "code",
   "execution_count": 0,
   "metadata": {
    "colab": {},
    "colab_type": "code",
    "id": "quQhOht1djyF"
   },
   "outputs": [],
   "source": [
    "K.set_value(model.optimizer.lr,0.001)"
   ]
  },
  {
   "cell_type": "code",
   "execution_count": 0,
   "metadata": {
    "colab": {
     "base_uri": "https://localhost:8080/",
     "height": 590
    },
    "colab_type": "code",
    "executionInfo": {
     "elapsed": 20867,
     "status": "ok",
     "timestamp": 1582012945888,
     "user": {
      "displayName": "Sam Witteveen",
      "photoUrl": "https://lh3.googleusercontent.com/a-/AAuE7mC5mOPZbrVQ8_EYBXQ8Mh68zMmcun3gmN6SH2Ww=s64",
      "userId": "13451642680591748340"
     },
     "user_tz": -480
    },
    "id": "zZZ8S6hDGc0T",
    "outputId": "99b52f6c-05c1-4ff6-fe2b-56ab73502169"
   },
   "outputs": [
    {
     "name": "stdout",
     "output_type": "stream",
     "text": [
      "Train on 60000 samples, validate on 10000 samples\n",
      "lr: 0.001\n",
      "Epoch 1/10\n",
      "60000/60000 [==============================] - 2s 33us/sample - loss: 0.0140 - accuracy: 0.9971 - val_loss: 0.2050 - val_accuracy: 0.9811\n",
      "lr: 0.001\n",
      "Epoch 2/10\n",
      "60000/60000 [==============================] - 2s 32us/sample - loss: 0.0127 - accuracy: 0.9972 - val_loss: 0.1810 - val_accuracy: 0.9836\n",
      "lr: 0.001\n",
      "Epoch 3/10\n",
      "60000/60000 [==============================] - 2s 34us/sample - loss: 0.0120 - accuracy: 0.9972 - val_loss: 0.1833 - val_accuracy: 0.9822\n",
      "lr: 0.001\n",
      "Epoch 4/10\n",
      "60000/60000 [==============================] - 2s 32us/sample - loss: 0.0103 - accuracy: 0.9977 - val_loss: 0.2065 - val_accuracy: 0.9829\n",
      "lr: 0.00090000004\n",
      "Epoch 5/10\n",
      "60000/60000 [==============================] - 2s 33us/sample - loss: 0.0108 - accuracy: 0.9976 - val_loss: 0.1874 - val_accuracy: 0.9824\n",
      "lr: 0.00090000004\n",
      "Epoch 6/10\n",
      "60000/60000 [==============================] - 2s 33us/sample - loss: 0.0101 - accuracy: 0.9977 - val_loss: 0.1770 - val_accuracy: 0.9834\n",
      "lr: 0.00090000004\n",
      "Epoch 7/10\n",
      "60000/60000 [==============================] - 2s 35us/sample - loss: 0.0087 - accuracy: 0.9980 - val_loss: 0.1738 - val_accuracy: 0.9848\n",
      "lr: 0.00090000004\n",
      "Epoch 8/10\n",
      "60000/60000 [==============================] - 2s 35us/sample - loss: 0.0101 - accuracy: 0.9976 - val_loss: 0.1937 - val_accuracy: 0.9845\n",
      "lr: 0.00090000004\n",
      "Epoch 9/10\n",
      "60000/60000 [==============================] - 2s 33us/sample - loss: 0.0102 - accuracy: 0.9979 - val_loss: 0.1738 - val_accuracy: 0.9849\n",
      "lr: 0.00081000006\n",
      "Epoch 10/10\n",
      "60000/60000 [==============================] - 2s 34us/sample - loss: 0.0066 - accuracy: 0.9983 - val_loss: 0.1958 - val_accuracy: 0.9851\n"
     ]
    },
    {
     "data": {
      "text/plain": [
       "<tensorflow.python.keras.callbacks.History at 0x7f3a4c027940>"
      ]
     },
     "execution_count": 42,
     "metadata": {
      "tags": []
     },
     "output_type": "execute_result"
    }
   ],
   "source": [
    "model.fit(x_train, y_train,\n",
    "                    batch_size=batch_size,\n",
    "                    epochs=epochs,\n",
    "                    verbose=1,\n",
    "                    validation_data=(x_test, y_test),\n",
    "                    callbacks=[lr_print,reduce_LR])"
   ]
  },
  {
   "cell_type": "code",
   "execution_count": 0,
   "metadata": {
    "colab": {},
    "colab_type": "code",
    "id": "vA6oIdcfGc0W"
   },
   "outputs": [],
   "source": []
  },
  {
   "cell_type": "markdown",
   "metadata": {
    "colab_type": "text",
    "id": "RMHbqXspMy8P"
   },
   "source": [
    "### CSV Logger\n",
    "\n",
    "Log out your training stats to a csv file   \n",
    "very useful when comparing models"
   ]
  },
  {
   "cell_type": "code",
   "execution_count": 0,
   "metadata": {
    "colab": {},
    "colab_type": "code",
    "id": "JyWrcADGM0ZL"
   },
   "outputs": [],
   "source": [
    "csv = CSVLogger('training_stats.csv', separator=',', append=False)"
   ]
  },
  {
   "cell_type": "code",
   "execution_count": 0,
   "metadata": {
    "colab": {
     "base_uri": "https://localhost:8080/",
     "height": 417
    },
    "colab_type": "code",
    "executionInfo": {
     "elapsed": 21263,
     "status": "ok",
     "timestamp": 1582013015016,
     "user": {
      "displayName": "Sam Witteveen",
      "photoUrl": "https://lh3.googleusercontent.com/a-/AAuE7mC5mOPZbrVQ8_EYBXQ8Mh68zMmcun3gmN6SH2Ww=s64",
      "userId": "13451642680591748340"
     },
     "user_tz": -480
    },
    "id": "YKOJO6_DM4sj",
    "outputId": "5caf85e3-ddc0-432b-ceed-e3707daf4716"
   },
   "outputs": [
    {
     "name": "stdout",
     "output_type": "stream",
     "text": [
      "Train on 60000 samples, validate on 10000 samples\n",
      "Epoch 1/10\n",
      "60000/60000 [==============================] - 2s 37us/sample - loss: 0.0075 - accuracy: 0.9984 - val_loss: 0.2128 - val_accuracy: 0.9828\n",
      "Epoch 2/10\n",
      "60000/60000 [==============================] - 2s 35us/sample - loss: 0.0082 - accuracy: 0.9982 - val_loss: 0.1880 - val_accuracy: 0.9832\n",
      "Epoch 3/10\n",
      "60000/60000 [==============================] - 2s 35us/sample - loss: 0.0074 - accuracy: 0.9983 - val_loss: 0.1850 - val_accuracy: 0.9843\n",
      "Epoch 4/10\n",
      "60000/60000 [==============================] - 2s 34us/sample - loss: 0.0059 - accuracy: 0.9987 - val_loss: 0.2079 - val_accuracy: 0.9839\n",
      "Epoch 5/10\n",
      "60000/60000 [==============================] - 2s 34us/sample - loss: 0.0081 - accuracy: 0.9983 - val_loss: 0.1935 - val_accuracy: 0.9825\n",
      "Epoch 6/10\n",
      "60000/60000 [==============================] - 2s 34us/sample - loss: 0.0086 - accuracy: 0.9984 - val_loss: 0.1840 - val_accuracy: 0.9846\n",
      "Epoch 7/10\n",
      "60000/60000 [==============================] - 2s 34us/sample - loss: 0.0067 - accuracy: 0.9986 - val_loss: 0.2089 - val_accuracy: 0.9846\n",
      "Epoch 8/10\n",
      "60000/60000 [==============================] - 2s 34us/sample - loss: 0.0070 - accuracy: 0.9985 - val_loss: 0.2335 - val_accuracy: 0.9837\n",
      "Epoch 9/10\n",
      "60000/60000 [==============================] - 2s 33us/sample - loss: 0.0065 - accuracy: 0.9984 - val_loss: 0.2159 - val_accuracy: 0.9824\n",
      "Epoch 10/10\n",
      "60000/60000 [==============================] - 2s 33us/sample - loss: 0.0067 - accuracy: 0.9985 - val_loss: 0.2203 - val_accuracy: 0.9842\n"
     ]
    },
    {
     "data": {
      "text/plain": [
       "<tensorflow.python.keras.callbacks.History at 0x7f3a4d0b06a0>"
      ]
     },
     "execution_count": 44,
     "metadata": {
      "tags": []
     },
     "output_type": "execute_result"
    }
   ],
   "source": [
    "model.fit(x_train, y_train,\n",
    "                    batch_size=batch_size,\n",
    "                    epochs=epochs,\n",
    "                    verbose=1,\n",
    "                    validation_data=(x_test, y_test),\n",
    "                    callbacks=[csv])"
   ]
  },
  {
   "cell_type": "code",
   "execution_count": 0,
   "metadata": {
    "colab": {
     "base_uri": "https://localhost:8080/",
     "height": 207
    },
    "colab_type": "code",
    "executionInfo": {
     "elapsed": 2610,
     "status": "ok",
     "timestamp": 1582013018835,
     "user": {
      "displayName": "Sam Witteveen",
      "photoUrl": "https://lh3.googleusercontent.com/a-/AAuE7mC5mOPZbrVQ8_EYBXQ8Mh68zMmcun3gmN6SH2Ww=s64",
      "userId": "13451642680591748340"
     },
     "user_tz": -480
    },
    "id": "OFcoPxkVNOX2",
    "outputId": "134fdb2e-b83f-4ba7-db8f-86e66efa84c6"
   },
   "outputs": [
    {
     "name": "stdout",
     "output_type": "stream",
     "text": [
      "epoch,accuracy,loss,val_accuracy,val_loss\r\n",
      "0,0.99838334,0.007540008049949268,0.9828,0.21283498247113258\r\n",
      "1,0.9982167,0.008200745441803008,0.9832,0.18797554560086457\r\n",
      "2,0.99833333,0.0073644876275659995,0.9843,0.18504497544439114\r\n",
      "3,0.99866664,0.005881122946144217,0.9839,0.20785919732761518\r\n",
      "4,0.99825,0.008069901625237018,0.9825,0.1934684191269567\r\n",
      "5,0.99835,0.00858353565817229,0.9846,0.18399119839126094\r\n",
      "6,0.9986333,0.00672919329280934,0.9846,0.20889608483980346\r\n",
      "7,0.9985167,0.007031747220171884,0.9837,0.23351749822542162\r\n",
      "8,0.99836665,0.006543110827566014,0.9824,0.21585678756063595\r\n",
      "9,0.99848336,0.006738412625010393,0.9842,0.2202738615226911\r\n"
     ]
    }
   ],
   "source": [
    "!cat training_stats.csv"
   ]
  },
  {
   "cell_type": "code",
   "execution_count": 0,
   "metadata": {
    "colab": {},
    "colab_type": "code",
    "id": "YdKVHj6WNiCy"
   },
   "outputs": [],
   "source": [
    "\n",
    "model.load_weights('./checkpoints/best_weights.hdf5')"
   ]
  },
  {
   "cell_type": "code",
   "execution_count": 0,
   "metadata": {
    "colab": {},
    "colab_type": "code",
    "id": "644uJ5gq6XUu"
   },
   "outputs": [],
   "source": [
    "ls checkpoints"
   ]
  },
  {
   "cell_type": "code",
   "execution_count": 0,
   "metadata": {
    "colab": {},
    "colab_type": "code",
    "id": "AU35oREF69Cp"
   },
   "outputs": [],
   "source": []
  }
 ],
 "metadata": {
  "accelerator": "GPU",
  "colab": {
   "collapsed_sections": [],
   "name": "Copy of JS07- TF2 - Keras callbacks.ipynb",
   "provenance": [
    {
     "file_id": "1-0-OdsrRbQzXyT8wu_lkGZHMUR_XCRFp",
     "timestamp": 1582013045580
    },
    {
     "file_id": "1kYt5KeWuRW1t0qp--sOjBMEOSXlgt_lh",
     "timestamp": 1558356392438
    },
    {
     "file_id": "1u8NEEZ1745N-_cFJOo_ddX3cimQ2u6Dm",
     "timestamp": 1547127878522
    },
    {
     "file_id": "1ULRMoPZLpkbLDrNqAHGstOFF9cHDChVM",
     "timestamp": 1536790764980
    },
    {
     "file_id": "1aViYBY2lWnoNV-lvkmq_npHTpMb_9suA",
     "timestamp": 1531320190316
    }
   ],
   "toc_visible": true
  },
  "kernelspec": {
   "display_name": "Python 3",
   "language": "python",
   "name": "python3"
  },
  "language_info": {
   "codemirror_mode": {
    "name": "ipython",
    "version": 3
   },
   "file_extension": ".py",
   "mimetype": "text/x-python",
   "name": "python",
   "nbconvert_exporter": "python",
   "pygments_lexer": "ipython3",
   "version": "3.7.4"
  }
 },
 "nbformat": 4,
 "nbformat_minor": 1
}
