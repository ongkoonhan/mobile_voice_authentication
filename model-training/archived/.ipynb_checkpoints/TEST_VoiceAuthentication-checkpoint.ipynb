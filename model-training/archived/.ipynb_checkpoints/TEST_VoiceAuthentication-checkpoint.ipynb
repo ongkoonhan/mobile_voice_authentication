{
 "cells": [
  {
   "cell_type": "code",
   "execution_count": 1,
   "metadata": {},
   "outputs": [],
   "source": [
    "import os\n",
    "import librosa\n",
    "import numpy as np\n",
    "\n",
    "from config import models_folder\n",
    "from VoiceAuthentication import VoiceAuthentication"
   ]
  },
  {
   "cell_type": "code",
   "execution_count": 2,
   "metadata": {},
   "outputs": [],
   "source": [
    "input_folder = os.path.join(r\"D:\\Desktop\\data\\speech_audio\\voxceleb1\\audio\\vox1_dev_wav\\wav\")"
   ]
  },
  {
   "cell_type": "code",
   "execution_count": null,
   "metadata": {},
   "outputs": [],
   "source": [
    "model_path = os.path.join(models_folder, \"verification_classifier\", \"good_models\", \"2020-03-20_12-20-57\", \"mobile_model.pt\")\n",
    "voice_auth = VoiceAuthentication(model_path, print_info=True)"
   ]
  },
  {
   "cell_type": "code",
   "execution_count": 23,
   "metadata": {},
   "outputs": [
    {
     "name": "stdout",
     "output_type": "stream",
     "text": [
      "16000\n",
      "116481\n",
      "\n",
      "22050\n",
      "160526\n",
      "Duration: 7.2800625 sec\n",
      "Spectrogram: (128, 314)\n"
     ]
    }
   ],
   "source": [
    "speaker = \"id10001\"\n",
    "video = \"J9lHsKG98U8\"\n",
    "audio_segs = [\"00001.wav\", \"00013.wav\"]   # 7s segments\n",
    "\n",
    "audio_files = [os.path.join(input_folder, speaker, video, audio_seg) for audio_seg in audio_segs]\n",
    "wav_1, wav_2 = audio_files[0], audio_files[1]\n",
    "voice_auth.authenticate()"
   ]
  },
  {
   "cell_type": "code",
   "execution_count": null,
   "metadata": {},
   "outputs": [],
   "source": []
  },
  {
   "cell_type": "code",
   "execution_count": 13,
   "metadata": {},
   "outputs": [],
   "source": []
  },
  {
   "cell_type": "code",
   "execution_count": 0,
   "metadata": {
    "colab": {},
    "colab_type": "code",
    "id": "HNw0ZEXs8D9X"
   },
   "outputs": [],
   "source": []
  }
 ],
 "metadata": {
  "accelerator": "GPU",
  "colab": {
   "collapsed_sections": [],
   "name": "Copy of SpeechRecognition_Data",
   "provenance": [
    {
     "file_id": "172ZbEHjGwXgZieZMXyjOz_RX1wxqitD7",
     "timestamp": 1582086486091
    },
    {
     "file_id": "https://github.com/mdda/cnn-speech-mnist/blob/master/SpeechRecognition_Data.ipynb",
     "timestamp": 1559877406836
    }
   ]
  },
  "kernelspec": {
   "display_name": "Python 3",
   "language": "python",
   "name": "python3"
  },
  "language_info": {
   "codemirror_mode": {
    "name": "ipython",
    "version": 3
   },
   "file_extension": ".py",
   "mimetype": "text/x-python",
   "name": "python",
   "nbconvert_exporter": "python",
   "pygments_lexer": "ipython3",
   "version": "3.7.4"
  }
 },
 "nbformat": 4,
 "nbformat_minor": 1
}
