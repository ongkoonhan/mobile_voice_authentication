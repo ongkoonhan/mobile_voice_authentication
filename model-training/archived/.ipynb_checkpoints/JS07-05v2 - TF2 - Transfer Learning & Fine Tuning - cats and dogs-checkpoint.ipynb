{
 "cells": [
  {
   "cell_type": "code",
   "execution_count": 1,
   "metadata": {
    "colab": {
     "base_uri": "https://localhost:8080/",
     "height": 35
    },
    "colab_type": "code",
    "executionInfo": {
     "elapsed": 770,
     "status": "ok",
     "timestamp": 1581928690176,
     "user": {
      "displayName": "Koon Han Ong",
      "photoUrl": "",
      "userId": "17931086602812754715"
     },
     "user_tz": -480
    },
    "id": "UBNI-mJS3s0c",
    "outputId": "ad529609-6c20-4790-f48d-27cf63763815"
   },
   "outputs": [
    {
     "name": "stdout",
     "output_type": "stream",
     "text": [
      "TensorFlow 2.x selected.\n"
     ]
    }
   ],
   "source": [
    "%tensorflow_version 2.x"
   ]
  },
  {
   "cell_type": "markdown",
   "metadata": {
    "colab_type": "text",
    "id": "RtyHmiCDrD2u"
   },
   "source": [
    "## Download the dataset"
   ]
  },
  {
   "cell_type": "code",
   "execution_count": 2,
   "metadata": {
    "colab": {
     "base_uri": "https://localhost:8080/",
     "height": 35
    },
    "colab_type": "code",
    "executionInfo": {
     "elapsed": 2616,
     "status": "ok",
     "timestamp": 1581928692661,
     "user": {
      "displayName": "Koon Han Ong",
      "photoUrl": "",
      "userId": "17931086602812754715"
     },
     "user_tz": -480
    },
    "id": "Fl9c1oJjl5MM",
    "outputId": "70026ee7-9495-4f75-c718-9314c4b5c610"
   },
   "outputs": [
    {
     "name": "stdout",
     "output_type": "stream",
     "text": [
      "sample_data\n"
     ]
    }
   ],
   "source": [
    "!ls"
   ]
  },
  {
   "cell_type": "code",
   "execution_count": 3,
   "metadata": {
    "colab": {
     "base_uri": "https://localhost:8080/",
     "height": 35
    },
    "colab_type": "code",
    "executionInfo": {
     "elapsed": 41235,
     "status": "ok",
     "timestamp": 1581928731729,
     "user": {
      "displayName": "Koon Han Ong",
      "photoUrl": "",
      "userId": "17931086602812754715"
     },
     "user_tz": -480
    },
    "id": "5pxD7JuOrLw5",
    "outputId": "4b480520-65a7-4f24-d6b1-36925dd4c643"
   },
   "outputs": [
    {
     "name": "stdout",
     "output_type": "stream",
     "text": [
      "data  sample_data\n"
     ]
    }
   ],
   "source": [
    "!wget -qq https://www.dropbox.com/s/bgv2q2isj6fni5o/data.zip\n",
    "  \n",
    "!unzip -qq data.zip\n",
    "!rm data.zip\n",
    "!rm -r __MACOSX\n",
    "\n",
    "!ls"
   ]
  },
  {
   "cell_type": "code",
   "execution_count": 4,
   "metadata": {
    "colab": {
     "base_uri": "https://localhost:8080/",
     "height": 35
    },
    "colab_type": "code",
    "executionInfo": {
     "elapsed": 42544,
     "status": "ok",
     "timestamp": 1581928733642,
     "user": {
      "displayName": "Koon Han Ong",
      "photoUrl": "",
      "userId": "17931086602812754715"
     },
     "user_tz": -480
    },
    "id": "rtnG9nE86IsL",
    "outputId": "638d96ed-31af-4d4e-8ded-030472b826fd"
   },
   "outputs": [
    {
     "name": "stdout",
     "output_type": "stream",
     "text": [
      "models\tsample\ttest1  train  valid\n"
     ]
    }
   ],
   "source": [
    "!ls data/dogscats"
   ]
  },
  {
   "cell_type": "markdown",
   "metadata": {
    "colab_type": "text",
    "id": "ZYVaiBB0qZkb"
   },
   "source": [
    "## Testing for GPU \n",
    "\n",
    "\n",
    "To Test if you have GPU set up\n",
    "\n",
    "Run the Cell below\n",
    "\n",
    "if no GPU is found press Runtime (in the menu at the top) and choose \"Change Runtime Type\" to GPU"
   ]
  },
  {
   "cell_type": "code",
   "execution_count": 5,
   "metadata": {
    "colab": {
     "base_uri": "https://localhost:8080/",
     "height": 35
    },
    "colab_type": "code",
    "executionInfo": {
     "elapsed": 46073,
     "status": "ok",
     "timestamp": 1581928742566,
     "user": {
      "displayName": "Koon Han Ong",
      "photoUrl": "",
      "userId": "17931086602812754715"
     },
     "user_tz": -480
    },
    "id": "eW8daUuEqhcU",
    "outputId": "0b3444cf-cccf-4312-d3d6-4135d64ab04b"
   },
   "outputs": [
    {
     "name": "stdout",
     "output_type": "stream",
     "text": [
      "Found GPU at: /device:GPU:0\n"
     ]
    }
   ],
   "source": [
    "import tensorflow as tf\n",
    "device_name = tf.test.gpu_device_name()\n",
    "if device_name != '/device:GPU:0':\n",
    "  raise SystemError('GPU device not found')\n",
    "print('Found GPU at: {}'.format(device_name))"
   ]
  },
  {
   "cell_type": "code",
   "execution_count": 6,
   "metadata": {
    "colab": {
     "base_uri": "https://localhost:8080/",
     "height": 35
    },
    "colab_type": "code",
    "executionInfo": {
     "elapsed": 48318,
     "status": "ok",
     "timestamp": 1581928744988,
     "user": {
      "displayName": "Koon Han Ong",
      "photoUrl": "",
      "userId": "17931086602812754715"
     },
     "user_tz": -480
    },
    "id": "ZAysGM3Jq3_K",
    "outputId": "085da6ee-b4c8-46ed-adc9-5ad72bff398f"
   },
   "outputs": [
    {
     "name": "stdout",
     "output_type": "stream",
     "text": [
      "data  sample_data\n"
     ]
    }
   ],
   "source": [
    "!ls"
   ]
  },
  {
   "cell_type": "code",
   "execution_count": 7,
   "metadata": {
    "colab": {
     "base_uri": "https://localhost:8080/",
     "height": 35
    },
    "colab_type": "code",
    "executionInfo": {
     "elapsed": 49821,
     "status": "ok",
     "timestamp": 1581928746862,
     "user": {
      "displayName": "Koon Han Ong",
      "photoUrl": "",
      "userId": "17931086602812754715"
     },
     "user_tz": -480
    },
    "id": "C7GJ7MuoxgI6",
    "outputId": "b46b3a5d-031b-4af5-d076-5b25a4ea3b5d"
   },
   "outputs": [
    {
     "name": "stdout",
     "output_type": "stream",
     "text": [
      "data  sample_data\n"
     ]
    }
   ],
   "source": [
    "!ls"
   ]
  },
  {
   "cell_type": "code",
   "execution_count": 0,
   "metadata": {
    "colab": {},
    "colab_type": "code",
    "id": "T5XE5aUW_zdN"
   },
   "outputs": [],
   "source": [
    "\n",
    "%matplotlib inline\n",
    "import matplotlib.pyplot as plt\n",
    "\n",
    "import os, json\n",
    "from glob import glob\n",
    "\n",
    "from tensorflow.keras.preprocessing import image\n",
    "from tensorflow.keras.preprocessing.image import ImageDataGenerator\n",
    "\n",
    "from tensorflow.keras.models import Model,load_model,Sequential\n",
    "\n",
    "from tensorflow.keras.layers import Dense, GlobalAveragePooling2D, Dropout,Flatten, Input\n",
    "from tensorflow.keras import backend as K\n",
    "\n",
    "import tensorflow as tf\n"
   ]
  },
  {
   "cell_type": "code",
   "execution_count": 10,
   "metadata": {
    "colab": {
     "base_uri": "https://localhost:8080/",
     "height": 35
    },
    "colab_type": "code",
    "executionInfo": {
     "elapsed": 2611,
     "status": "ok",
     "timestamp": 1581928762765,
     "user": {
      "displayName": "Koon Han Ong",
      "photoUrl": "",
      "userId": "17931086602812754715"
     },
     "user_tz": -480
    },
    "id": "TvUL8gNLSAV4",
    "outputId": "51d75124-2a38-478b-f7f2-5cee581aea95"
   },
   "outputs": [
    {
     "name": "stdout",
     "output_type": "stream",
     "text": [
      "cats  dogs\n"
     ]
    }
   ],
   "source": [
    "!ls data/dogscats/train/"
   ]
  },
  {
   "cell_type": "code",
   "execution_count": 11,
   "metadata": {
    "colab": {
     "base_uri": "https://localhost:8080/",
     "height": 54
    },
    "colab_type": "code",
    "executionInfo": {
     "elapsed": 2452,
     "status": "ok",
     "timestamp": 1581928762767,
     "user": {
      "displayName": "Koon Han Ong",
      "photoUrl": "",
      "userId": "17931086602812754715"
     },
     "user_tz": -480
    },
    "id": "lhsnczi6tiUS",
    "outputId": "cb166f34-6d76-419c-e78b-b7b5737ffe01"
   },
   "outputs": [
    {
     "name": "stdout",
     "output_type": "stream",
     "text": [
      "2.2.4-tf\n",
      "2.1.0\n"
     ]
    }
   ],
   "source": [
    "print(tf.keras.__version__)\n",
    "print(tf.__version__)"
   ]
  },
  {
   "cell_type": "markdown",
   "metadata": {
    "colab_type": "text",
    "id": "vplBVwt45ijy"
   },
   "source": [
    "## Converting raw files in folders into something we can feed into tf.data\n",
    "\n",
    "We use glob to get lists of the files in the directories and then convert them into dataframes and add in class numbers.\n",
    "\n",
    "We also then split them up so we have 10% for a testing set and the rest for training.\n",
    "\n",
    "finally we randomly shuffle them up\n"
   ]
  },
  {
   "cell_type": "code",
   "execution_count": 0,
   "metadata": {
    "colab": {},
    "colab_type": "code",
    "id": "J0Ex44oI_zdX"
   },
   "outputs": [],
   "source": [
    "path = \"./data/dogscats/\"\n",
    "#path = \"./data/dogscats/sample/\""
   ]
  },
  {
   "cell_type": "code",
   "execution_count": 13,
   "metadata": {
    "colab": {
     "base_uri": "https://localhost:8080/",
     "height": 217
    },
    "colab_type": "code",
    "executionInfo": {
     "elapsed": 1101,
     "status": "ok",
     "timestamp": 1581928774513,
     "user": {
      "displayName": "Koon Han Ong",
      "photoUrl": "",
      "userId": "17931086602812754715"
     },
     "user_tz": -480
    },
    "id": "2tcpqFpr_zdZ",
    "outputId": "e643e4b6-683a-48db-b739-f6c9be37fb15"
   },
   "outputs": [
    {
     "name": "stdout",
     "output_type": "stream",
     "text": [
      "                                         filename class_name  class\n",
      "0  /content/data/dogscats/train/cats/cat.4384.jpg       cats      0\n",
      "1  /content/data/dogscats/train/dogs/dog.5924.jpg       dogs      1\n",
      "2  /content/data/dogscats/train/cats/cat.8125.jpg       cats      0\n",
      "3  /content/data/dogscats/train/dogs/dog.1593.jpg       dogs      1\n",
      "4  /content/data/dogscats/train/cats/cat.2147.jpg       cats      0\n",
      "23000\n"
     ]
    },
    {
     "data": {
      "text/plain": [
       "filename        object\n",
       "class_name    category\n",
       "class             int8\n",
       "dtype: object"
      ]
     },
     "execution_count": 13,
     "metadata": {
      "tags": []
     },
     "output_type": "execute_result"
    }
   ],
   "source": [
    "img_width, img_height = 224, 224\n",
    "\n",
    "path = \"./data/dogscats/train/\"\n",
    "validation_data_dir = \"./data/dogscats/valid/\"\n",
    "\n",
    "import glob\n",
    "import pandas as pd\n",
    "\n",
    "\n",
    "data = []\n",
    "for root, dirs, files in os.walk(path, topdown=True):\n",
    "  for name in files:\n",
    "    if '.jpg' not in name:\n",
    "      continue\n",
    "    filename = os.path.abspath(os.path.join(root, name))\n",
    "    class_name = os.path.basename(root)\n",
    "    data.append((filename, class_name))\n",
    "\n",
    "df = pd.DataFrame(data, columns=['filename', 'class_name'])\n",
    "\n",
    "df['class_name'] = df['class_name'].astype('category')\n",
    "df['class'] = df['class_name'].cat.codes\n",
    "\n",
    "#shuffle\n",
    "df = df.sample(frac=1).reset_index(drop=True)\n",
    "\n",
    "print(df.head())\n",
    "print(len(df))\n",
    "df.dtypes"
   ]
  },
  {
   "cell_type": "code",
   "execution_count": 14,
   "metadata": {
    "colab": {
     "base_uri": "https://localhost:8080/",
     "height": 648
    },
    "colab_type": "code",
    "executionInfo": {
     "elapsed": 690,
     "status": "ok",
     "timestamp": 1581928809025,
     "user": {
      "displayName": "Koon Han Ong",
      "photoUrl": "",
      "userId": "17931086602812754715"
     },
     "user_tz": -480
    },
    "id": "Ow9T7xNTF9xH",
    "outputId": "3056f136-bd4a-42ab-b79c-a579e1a79ce3"
   },
   "outputs": [
    {
     "data": {
      "text/html": [
       "<div>\n",
       "<style scoped>\n",
       "    .dataframe tbody tr th:only-of-type {\n",
       "        vertical-align: middle;\n",
       "    }\n",
       "\n",
       "    .dataframe tbody tr th {\n",
       "        vertical-align: top;\n",
       "    }\n",
       "\n",
       "    .dataframe thead th {\n",
       "        text-align: right;\n",
       "    }\n",
       "</style>\n",
       "<table border=\"1\" class=\"dataframe\">\n",
       "  <thead>\n",
       "    <tr style=\"text-align: right;\">\n",
       "      <th></th>\n",
       "      <th>filename</th>\n",
       "      <th>class_name</th>\n",
       "      <th>class</th>\n",
       "    </tr>\n",
       "  </thead>\n",
       "  <tbody>\n",
       "    <tr>\n",
       "      <th>0</th>\n",
       "      <td>/content/data/dogscats/train/cats/cat.4384.jpg</td>\n",
       "      <td>cats</td>\n",
       "      <td>0</td>\n",
       "    </tr>\n",
       "    <tr>\n",
       "      <th>1</th>\n",
       "      <td>/content/data/dogscats/train/dogs/dog.5924.jpg</td>\n",
       "      <td>dogs</td>\n",
       "      <td>1</td>\n",
       "    </tr>\n",
       "    <tr>\n",
       "      <th>2</th>\n",
       "      <td>/content/data/dogscats/train/cats/cat.8125.jpg</td>\n",
       "      <td>cats</td>\n",
       "      <td>0</td>\n",
       "    </tr>\n",
       "    <tr>\n",
       "      <th>3</th>\n",
       "      <td>/content/data/dogscats/train/dogs/dog.1593.jpg</td>\n",
       "      <td>dogs</td>\n",
       "      <td>1</td>\n",
       "    </tr>\n",
       "    <tr>\n",
       "      <th>4</th>\n",
       "      <td>/content/data/dogscats/train/cats/cat.2147.jpg</td>\n",
       "      <td>cats</td>\n",
       "      <td>0</td>\n",
       "    </tr>\n",
       "    <tr>\n",
       "      <th>5</th>\n",
       "      <td>/content/data/dogscats/train/dogs/dog.5082.jpg</td>\n",
       "      <td>dogs</td>\n",
       "      <td>1</td>\n",
       "    </tr>\n",
       "    <tr>\n",
       "      <th>6</th>\n",
       "      <td>/content/data/dogscats/train/cats/cat.3178.jpg</td>\n",
       "      <td>cats</td>\n",
       "      <td>0</td>\n",
       "    </tr>\n",
       "    <tr>\n",
       "      <th>7</th>\n",
       "      <td>/content/data/dogscats/train/dogs/dog.7624.jpg</td>\n",
       "      <td>dogs</td>\n",
       "      <td>1</td>\n",
       "    </tr>\n",
       "    <tr>\n",
       "      <th>8</th>\n",
       "      <td>/content/data/dogscats/train/cats/cat.6496.jpg</td>\n",
       "      <td>cats</td>\n",
       "      <td>0</td>\n",
       "    </tr>\n",
       "    <tr>\n",
       "      <th>9</th>\n",
       "      <td>/content/data/dogscats/train/cats/cat.7438.jpg</td>\n",
       "      <td>cats</td>\n",
       "      <td>0</td>\n",
       "    </tr>\n",
       "    <tr>\n",
       "      <th>10</th>\n",
       "      <td>/content/data/dogscats/train/cats/cat.1413.jpg</td>\n",
       "      <td>cats</td>\n",
       "      <td>0</td>\n",
       "    </tr>\n",
       "    <tr>\n",
       "      <th>11</th>\n",
       "      <td>/content/data/dogscats/train/dogs/dog.3073.jpg</td>\n",
       "      <td>dogs</td>\n",
       "      <td>1</td>\n",
       "    </tr>\n",
       "    <tr>\n",
       "      <th>12</th>\n",
       "      <td>/content/data/dogscats/train/cats/cat.3621.jpg</td>\n",
       "      <td>cats</td>\n",
       "      <td>0</td>\n",
       "    </tr>\n",
       "    <tr>\n",
       "      <th>13</th>\n",
       "      <td>/content/data/dogscats/train/dogs/dog.2725.jpg</td>\n",
       "      <td>dogs</td>\n",
       "      <td>1</td>\n",
       "    </tr>\n",
       "    <tr>\n",
       "      <th>14</th>\n",
       "      <td>/content/data/dogscats/train/dogs/dog.10043.jpg</td>\n",
       "      <td>dogs</td>\n",
       "      <td>1</td>\n",
       "    </tr>\n",
       "    <tr>\n",
       "      <th>15</th>\n",
       "      <td>/content/data/dogscats/train/cats/cat.1658.jpg</td>\n",
       "      <td>cats</td>\n",
       "      <td>0</td>\n",
       "    </tr>\n",
       "    <tr>\n",
       "      <th>16</th>\n",
       "      <td>/content/data/dogscats/train/cats/cat.8482.jpg</td>\n",
       "      <td>cats</td>\n",
       "      <td>0</td>\n",
       "    </tr>\n",
       "    <tr>\n",
       "      <th>17</th>\n",
       "      <td>/content/data/dogscats/train/dogs/dog.5265.jpg</td>\n",
       "      <td>dogs</td>\n",
       "      <td>1</td>\n",
       "    </tr>\n",
       "    <tr>\n",
       "      <th>18</th>\n",
       "      <td>/content/data/dogscats/train/dogs/dog.6651.jpg</td>\n",
       "      <td>dogs</td>\n",
       "      <td>1</td>\n",
       "    </tr>\n",
       "    <tr>\n",
       "      <th>19</th>\n",
       "      <td>/content/data/dogscats/train/cats/cat.2338.jpg</td>\n",
       "      <td>cats</td>\n",
       "      <td>0</td>\n",
       "    </tr>\n",
       "  </tbody>\n",
       "</table>\n",
       "</div>"
      ],
      "text/plain": [
       "                                           filename class_name  class\n",
       "0    /content/data/dogscats/train/cats/cat.4384.jpg       cats      0\n",
       "1    /content/data/dogscats/train/dogs/dog.5924.jpg       dogs      1\n",
       "2    /content/data/dogscats/train/cats/cat.8125.jpg       cats      0\n",
       "3    /content/data/dogscats/train/dogs/dog.1593.jpg       dogs      1\n",
       "4    /content/data/dogscats/train/cats/cat.2147.jpg       cats      0\n",
       "5    /content/data/dogscats/train/dogs/dog.5082.jpg       dogs      1\n",
       "6    /content/data/dogscats/train/cats/cat.3178.jpg       cats      0\n",
       "7    /content/data/dogscats/train/dogs/dog.7624.jpg       dogs      1\n",
       "8    /content/data/dogscats/train/cats/cat.6496.jpg       cats      0\n",
       "9    /content/data/dogscats/train/cats/cat.7438.jpg       cats      0\n",
       "10   /content/data/dogscats/train/cats/cat.1413.jpg       cats      0\n",
       "11   /content/data/dogscats/train/dogs/dog.3073.jpg       dogs      1\n",
       "12   /content/data/dogscats/train/cats/cat.3621.jpg       cats      0\n",
       "13   /content/data/dogscats/train/dogs/dog.2725.jpg       dogs      1\n",
       "14  /content/data/dogscats/train/dogs/dog.10043.jpg       dogs      1\n",
       "15   /content/data/dogscats/train/cats/cat.1658.jpg       cats      0\n",
       "16   /content/data/dogscats/train/cats/cat.8482.jpg       cats      0\n",
       "17   /content/data/dogscats/train/dogs/dog.5265.jpg       dogs      1\n",
       "18   /content/data/dogscats/train/dogs/dog.6651.jpg       dogs      1\n",
       "19   /content/data/dogscats/train/cats/cat.2338.jpg       cats      0"
      ]
     },
     "execution_count": 14,
     "metadata": {
      "tags": []
     },
     "output_type": "execute_result"
    }
   ],
   "source": [
    "df.head(20)"
   ]
  },
  {
   "cell_type": "code",
   "execution_count": 0,
   "metadata": {
    "colab": {},
    "colab_type": "code",
    "id": "oAKci0JH6BzR"
   },
   "outputs": [],
   "source": [
    "\n",
    "# Split into train and validation sets\n",
    "train_set_percentage = .9\n",
    "\n",
    "\n",
    "df = df[:int(len(df)*train_set_percentage)]\n",
    "df_val = df[int(len(df)*train_set_percentage):]\n",
    "\n",
    "# shuffle \n",
    "df = df.sample(frac=1).reset_index(drop=True)\n",
    "df_val = df_val.sample(frac=1).reset_index(drop=True)"
   ]
  },
  {
   "cell_type": "markdown",
   "metadata": {
    "colab_type": "text",
    "id": "3t5kYeBmCnE_"
   },
   "source": [
    "## Make the pipeline for loading and resizing the images"
   ]
  },
  {
   "cell_type": "code",
   "execution_count": 0,
   "metadata": {
    "colab": {},
    "colab_type": "code",
    "id": "qd2z9MxO4Pk4"
   },
   "outputs": [],
   "source": [
    "# Reads an image from a file, decodes it into a tensor, and resizes it\n",
    "# to a fixed shape.\n",
    "img_rows, img_cols = 224,224\n",
    "num_classes = 2\n",
    "batch_size = 32\n",
    "\n",
    "def _parse_function(filename, label):\n",
    "  image_string = tf.io.read_file(filename)\n",
    "  image_decoded = tf.image.decode_jpeg(image_string,channels=3)   # read img\n",
    "  image_resized = tf.image.resize(image_decoded, [img_rows, img_cols])   # model input size\n",
    "  image_resized = tf.ensure_shape(image_resized ,shape=(img_rows, img_cols,3))   # validate size\n",
    "  label = tf.one_hot(label, num_classes)   # one hot encoding\n",
    "  return image_resized, label"
   ]
  },
  {
   "cell_type": "markdown",
   "metadata": {
    "colab_type": "text",
    "id": "3-zPDhCk7LU7"
   },
   "source": [
    "## Assembling the Data pipeline using tf.data"
   ]
  },
  {
   "cell_type": "code",
   "execution_count": 0,
   "metadata": {
    "colab": {},
    "colab_type": "code",
    "id": "xwpR_kFx7Mpn"
   },
   "outputs": [],
   "source": [
    "# Get data as slices (features/labels)\n",
    "train_dataset = tf.data.Dataset.from_tensor_slices((tf.cast(df['filename'].values, tf.string),\n",
    "                                                    tf.cast(df['class'].values, tf.int32) ))\n",
    "# Parse the slices with a function\n",
    "train_dataset = train_dataset.map(_parse_function)\n",
    "train_dataset = train_dataset.shuffle(5000)\n",
    "train_dataset = train_dataset.repeat()   # reset generator when exhausted\n",
    "train_dataset = train_dataset.batch(batch_size, drop_remainder=True)   # drop_remainder ignores batches with size < match_size"
   ]
  },
  {
   "cell_type": "code",
   "execution_count": 0,
   "metadata": {
    "colab": {},
    "colab_type": "code",
    "id": "yeMHsKsL7Mvy"
   },
   "outputs": [],
   "source": [
    "valid_dataset = tf.data.Dataset.from_tensor_slices((tf.cast(df_val['filename'].values, tf.string),\n",
    "                                                    tf.cast(df_val['class'].values, tf.int32) ))\n",
    "valid_dataset = valid_dataset.map(_parse_function)\n",
    "valid_dataset = valid_dataset.shuffle(5000)\n",
    "valid_dataset = valid_dataset.repeat()\n",
    "valid_dataset = valid_dataset.batch(batch_size, drop_remainder=True)"
   ]
  },
  {
   "cell_type": "code",
   "execution_count": 22,
   "metadata": {
    "colab": {
     "base_uri": "https://localhost:8080/",
     "height": 35
    },
    "colab_type": "code",
    "executionInfo": {
     "elapsed": 634,
     "status": "ok",
     "timestamp": 1581929416659,
     "user": {
      "displayName": "Koon Han Ong",
      "photoUrl": "",
      "userId": "17931086602812754715"
     },
     "user_tz": -480
    },
    "id": "nGhq8Dm25x4E",
    "outputId": "12edff85-9cb5-4df2-fdaa-7108e5a539ff"
   },
   "outputs": [
    {
     "data": {
      "text/plain": [
       "<BatchDataset shapes: ((32, 224, 224, 3), (32, 2)), types: (tf.float32, tf.float32)>"
      ]
     },
     "execution_count": 22,
     "metadata": {
      "tags": []
     },
     "output_type": "execute_result"
    }
   ],
   "source": [
    "train_dataset"
   ]
  },
  {
   "cell_type": "markdown",
   "metadata": {
    "colab_type": "text",
    "id": "ImnEoNhP_zdf"
   },
   "source": [
    "This will download the VGG network weights "
   ]
  },
  {
   "cell_type": "code",
   "execution_count": 23,
   "metadata": {
    "colab": {
     "base_uri": "https://localhost:8080/",
     "height": 74
    },
    "colab_type": "code",
    "executionInfo": {
     "elapsed": 1850,
     "status": "ok",
     "timestamp": 1581929434442,
     "user": {
      "displayName": "Koon Han Ong",
      "photoUrl": "",
      "userId": "17931086602812754715"
     },
     "user_tz": -480
    },
    "id": "lDgNpUSK_zdg",
    "outputId": "30816778-51ce-4c87-8941-a713c1a8fbc3"
   },
   "outputs": [
    {
     "name": "stdout",
     "output_type": "stream",
     "text": [
      "Downloading data from https://github.com/fchollet/deep-learning-models/releases/download/v0.1/vgg16_weights_tf_dim_ordering_tf_kernels_notop.h5\n",
      "58892288/58889256 [==============================] - 1s 0us/step\n"
     ]
    }
   ],
   "source": [
    "# create the base pre-trained model\n",
    "# top/head not included\n",
    "base_model = tf.keras.applications.VGG16(weights='imagenet', include_top=False, input_shape=(224, 224, 3),pooling=None)\n"
   ]
  },
  {
   "cell_type": "code",
   "execution_count": 24,
   "metadata": {
    "colab": {
     "base_uri": "https://localhost:8080/",
     "height": 854
    },
    "colab_type": "code",
    "executionInfo": {
     "elapsed": 716,
     "status": "ok",
     "timestamp": 1581929436127,
     "user": {
      "displayName": "Koon Han Ong",
      "photoUrl": "",
      "userId": "17931086602812754715"
     },
     "user_tz": -480
    },
    "id": "EabM6z9h_zdj",
    "outputId": "9558e2a8-8c39-4659-fd8d-6b1ea9a3c5cd"
   },
   "outputs": [
    {
     "name": "stdout",
     "output_type": "stream",
     "text": [
      "Model: \"vgg16\"\n",
      "_________________________________________________________________\n",
      "Layer (type)                 Output Shape              Param #   \n",
      "=================================================================\n",
      "input_1 (InputLayer)         [(None, 224, 224, 3)]     0         \n",
      "_________________________________________________________________\n",
      "block1_conv1 (Conv2D)        (None, 224, 224, 64)      1792      \n",
      "_________________________________________________________________\n",
      "block1_conv2 (Conv2D)        (None, 224, 224, 64)      36928     \n",
      "_________________________________________________________________\n",
      "block1_pool (MaxPooling2D)   (None, 112, 112, 64)      0         \n",
      "_________________________________________________________________\n",
      "block2_conv1 (Conv2D)        (None, 112, 112, 128)     73856     \n",
      "_________________________________________________________________\n",
      "block2_conv2 (Conv2D)        (None, 112, 112, 128)     147584    \n",
      "_________________________________________________________________\n",
      "block2_pool (MaxPooling2D)   (None, 56, 56, 128)       0         \n",
      "_________________________________________________________________\n",
      "block3_conv1 (Conv2D)        (None, 56, 56, 256)       295168    \n",
      "_________________________________________________________________\n",
      "block3_conv2 (Conv2D)        (None, 56, 56, 256)       590080    \n",
      "_________________________________________________________________\n",
      "block3_conv3 (Conv2D)        (None, 56, 56, 256)       590080    \n",
      "_________________________________________________________________\n",
      "block3_pool (MaxPooling2D)   (None, 28, 28, 256)       0         \n",
      "_________________________________________________________________\n",
      "block4_conv1 (Conv2D)        (None, 28, 28, 512)       1180160   \n",
      "_________________________________________________________________\n",
      "block4_conv2 (Conv2D)        (None, 28, 28, 512)       2359808   \n",
      "_________________________________________________________________\n",
      "block4_conv3 (Conv2D)        (None, 28, 28, 512)       2359808   \n",
      "_________________________________________________________________\n",
      "block4_pool (MaxPooling2D)   (None, 14, 14, 512)       0         \n",
      "_________________________________________________________________\n",
      "block5_conv1 (Conv2D)        (None, 14, 14, 512)       2359808   \n",
      "_________________________________________________________________\n",
      "block5_conv2 (Conv2D)        (None, 14, 14, 512)       2359808   \n",
      "_________________________________________________________________\n",
      "block5_conv3 (Conv2D)        (None, 14, 14, 512)       2359808   \n",
      "_________________________________________________________________\n",
      "block5_pool (MaxPooling2D)   (None, 7, 7, 512)         0         \n",
      "=================================================================\n",
      "Total params: 14,714,688\n",
      "Trainable params: 14,714,688\n",
      "Non-trainable params: 0\n",
      "_________________________________________________________________\n"
     ]
    }
   ],
   "source": [
    "base_model.summary()"
   ]
  },
  {
   "cell_type": "code",
   "execution_count": 0,
   "metadata": {
    "colab": {},
    "colab_type": "code",
    "id": "D6jtoHPC_zdm"
   },
   "outputs": [],
   "source": [
    "# add a global spatial average pooling layer\n",
    "x = base_model.output   # from VGG (with out flatten layer)\n",
    "\n",
    "x = GlobalAveragePooling2D()(x)\n",
    "\n",
    "# let's add a fully-connected layer\n",
    "x = Dense(512, activation='relu')(x)\n",
    "\n",
    "# x = Dropout(0.3)(x)\n",
    "\n",
    "# and a logits layer -- let's say we have 2 classes\n",
    "predictions = Dense(2, activation='softmax')(x)\n"
   ]
  },
  {
   "cell_type": "code",
   "execution_count": 0,
   "metadata": {
    "colab": {},
    "colab_type": "code",
    "id": "mJNP12F8_zdo"
   },
   "outputs": [],
   "source": [
    "# this is the model we will train\n",
    "model = Model(inputs=base_model.input, outputs=predictions)"
   ]
  },
  {
   "cell_type": "code",
   "execution_count": 27,
   "metadata": {
    "colab": {
     "base_uri": "https://localhost:8080/",
     "height": 363
    },
    "colab_type": "code",
    "executionInfo": {
     "elapsed": 676,
     "status": "ok",
     "timestamp": 1581929680232,
     "user": {
      "displayName": "Koon Han Ong",
      "photoUrl": "",
      "userId": "17931086602812754715"
     },
     "user_tz": -480
    },
    "id": "Fs1W-nVL_zdr",
    "outputId": "d936c67e-0fac-4053-b842-17eff6c39f72"
   },
   "outputs": [
    {
     "name": "stdout",
     "output_type": "stream",
     "text": [
      "input_1\n",
      "block1_conv1\n",
      "block1_conv2\n",
      "block1_pool\n",
      "block2_conv1\n",
      "block2_conv2\n",
      "block2_pool\n",
      "block3_conv1\n",
      "block3_conv2\n",
      "block3_conv3\n",
      "block3_pool\n",
      "block4_conv1\n",
      "block4_conv2\n",
      "block4_conv3\n",
      "block4_pool\n",
      "block5_conv1\n",
      "block5_conv2\n",
      "block5_conv3\n",
      "block5_pool\n"
     ]
    }
   ],
   "source": [
    "# first: train only the top layers (which were randomly initialized)\n",
    "# i.e. freeze all convolutional VGG16 layers\n",
    "for layer in base_model.layers:\n",
    "    print(layer.name)\n",
    "    layer.trainable = False   # freeze VGG\n"
   ]
  },
  {
   "cell_type": "code",
   "execution_count": 28,
   "metadata": {
    "colab": {
     "base_uri": "https://localhost:8080/",
     "height": 417
    },
    "colab_type": "code",
    "executionInfo": {
     "elapsed": 720,
     "status": "ok",
     "timestamp": 1581929681877,
     "user": {
      "displayName": "Koon Han Ong",
      "photoUrl": "",
      "userId": "17931086602812754715"
     },
     "user_tz": -480
    },
    "id": "UUdVpa6M_zdu",
    "outputId": "2c86e1f4-70e3-4eec-a7a3-bc3e11314750"
   },
   "outputs": [
    {
     "name": "stdout",
     "output_type": "stream",
     "text": [
      "input_1  Trainable = False\n",
      "block1_conv1  Trainable = False\n",
      "block1_conv2  Trainable = False\n",
      "block1_pool  Trainable = False\n",
      "block2_conv1  Trainable = False\n",
      "block2_conv2  Trainable = False\n",
      "block2_pool  Trainable = False\n",
      "block3_conv1  Trainable = False\n",
      "block3_conv2  Trainable = False\n",
      "block3_conv3  Trainable = False\n",
      "block3_pool  Trainable = False\n",
      "block4_conv1  Trainable = False\n",
      "block4_conv2  Trainable = False\n",
      "block4_conv3  Trainable = False\n",
      "block4_pool  Trainable = False\n",
      "block5_conv1  Trainable = False\n",
      "block5_conv2  Trainable = False\n",
      "block5_conv3  Trainable = False\n",
      "block5_pool  Trainable = False\n",
      "global_average_pooling2d  Trainable = True\n",
      "dense  Trainable = True\n",
      "dense_1  Trainable = True\n"
     ]
    }
   ],
   "source": [
    "for layer in model.layers:\n",
    "    print(layer.name,' Trainable =',layer.trainable)"
   ]
  },
  {
   "cell_type": "code",
   "execution_count": 29,
   "metadata": {
    "colab": {
     "base_uri": "https://localhost:8080/",
     "height": 963
    },
    "colab_type": "code",
    "executionInfo": {
     "elapsed": 723,
     "status": "ok",
     "timestamp": 1581929684144,
     "user": {
      "displayName": "Koon Han Ong",
      "photoUrl": "",
      "userId": "17931086602812754715"
     },
     "user_tz": -480
    },
    "id": "Kwr7-Clt6M25",
    "outputId": "342ab7a8-ebef-4255-e8fe-816012299956"
   },
   "outputs": [
    {
     "name": "stdout",
     "output_type": "stream",
     "text": [
      "Model: \"model\"\n",
      "_________________________________________________________________\n",
      "Layer (type)                 Output Shape              Param #   \n",
      "=================================================================\n",
      "input_1 (InputLayer)         [(None, 224, 224, 3)]     0         \n",
      "_________________________________________________________________\n",
      "block1_conv1 (Conv2D)        (None, 224, 224, 64)      1792      \n",
      "_________________________________________________________________\n",
      "block1_conv2 (Conv2D)        (None, 224, 224, 64)      36928     \n",
      "_________________________________________________________________\n",
      "block1_pool (MaxPooling2D)   (None, 112, 112, 64)      0         \n",
      "_________________________________________________________________\n",
      "block2_conv1 (Conv2D)        (None, 112, 112, 128)     73856     \n",
      "_________________________________________________________________\n",
      "block2_conv2 (Conv2D)        (None, 112, 112, 128)     147584    \n",
      "_________________________________________________________________\n",
      "block2_pool (MaxPooling2D)   (None, 56, 56, 128)       0         \n",
      "_________________________________________________________________\n",
      "block3_conv1 (Conv2D)        (None, 56, 56, 256)       295168    \n",
      "_________________________________________________________________\n",
      "block3_conv2 (Conv2D)        (None, 56, 56, 256)       590080    \n",
      "_________________________________________________________________\n",
      "block3_conv3 (Conv2D)        (None, 56, 56, 256)       590080    \n",
      "_________________________________________________________________\n",
      "block3_pool (MaxPooling2D)   (None, 28, 28, 256)       0         \n",
      "_________________________________________________________________\n",
      "block4_conv1 (Conv2D)        (None, 28, 28, 512)       1180160   \n",
      "_________________________________________________________________\n",
      "block4_conv2 (Conv2D)        (None, 28, 28, 512)       2359808   \n",
      "_________________________________________________________________\n",
      "block4_conv3 (Conv2D)        (None, 28, 28, 512)       2359808   \n",
      "_________________________________________________________________\n",
      "block4_pool (MaxPooling2D)   (None, 14, 14, 512)       0         \n",
      "_________________________________________________________________\n",
      "block5_conv1 (Conv2D)        (None, 14, 14, 512)       2359808   \n",
      "_________________________________________________________________\n",
      "block5_conv2 (Conv2D)        (None, 14, 14, 512)       2359808   \n",
      "_________________________________________________________________\n",
      "block5_conv3 (Conv2D)        (None, 14, 14, 512)       2359808   \n",
      "_________________________________________________________________\n",
      "block5_pool (MaxPooling2D)   (None, 7, 7, 512)         0         \n",
      "_________________________________________________________________\n",
      "global_average_pooling2d (Gl (None, 512)               0         \n",
      "_________________________________________________________________\n",
      "dense (Dense)                (None, 512)               262656    \n",
      "_________________________________________________________________\n",
      "dense_1 (Dense)              (None, 2)                 1026      \n",
      "=================================================================\n",
      "Total params: 14,978,370\n",
      "Trainable params: 263,682\n",
      "Non-trainable params: 14,714,688\n",
      "_________________________________________________________________\n"
     ]
    }
   ],
   "source": [
    "model.summary()"
   ]
  },
  {
   "cell_type": "code",
   "execution_count": 0,
   "metadata": {
    "colab": {},
    "colab_type": "code",
    "id": "3h5gZCzH_zdy"
   },
   "outputs": [],
   "source": [
    "opt = tf.keras.optimizers.Adam(lr=0.001)\n",
    "\n",
    "# compile the model (should be done *after* setting layers to non-trainable)\n",
    "model.compile(optimizer=opt, loss='categorical_crossentropy',metrics=['accuracy'])"
   ]
  },
  {
   "cell_type": "code",
   "execution_count": 32,
   "metadata": {
    "colab": {
     "base_uri": "https://localhost:8080/",
     "height": 54
    },
    "colab_type": "code",
    "executionInfo": {
     "elapsed": 954,
     "status": "ok",
     "timestamp": 1581929769815,
     "user": {
      "displayName": "Koon Han Ong",
      "photoUrl": "",
      "userId": "17931086602812754715"
     },
     "user_tz": -480
    },
    "id": "pD7vN-nf_zd0",
    "outputId": "e6b682f8-7500-4f2c-96a5-67e692042940"
   },
   "outputs": [
    {
     "name": "stdout",
     "output_type": "stream",
     "text": [
      "train steps: 646\n",
      "val steps: 71\n"
     ]
    }
   ],
   "source": [
    "# Epoch/steps calculation\n",
    "train_steps = int(20700/32) #total trains set / batch_size\n",
    "val_steps = int(2300/32)\n",
    "epochs = 1\n",
    "\n",
    "print('train steps:',train_steps)\n",
    "print('val steps:',val_steps)"
   ]
  },
  {
   "cell_type": "code",
   "execution_count": 33,
   "metadata": {
    "colab": {
     "base_uri": "https://localhost:8080/",
     "height": 74
    },
    "colab_type": "code",
    "executionInfo": {
     "elapsed": 126687,
     "status": "ok",
     "timestamp": 1581929895890,
     "user": {
      "displayName": "Koon Han Ong",
      "photoUrl": "",
      "userId": "17931086602812754715"
     },
     "user_tz": -480
    },
    "id": "DGGH-czf_zd2",
    "outputId": "52021e87-8300-4cab-91b2-0e63bbc276b1"
   },
   "outputs": [
    {
     "name": "stdout",
     "output_type": "stream",
     "text": [
      "Train for 646 steps, validate for 71 steps\n",
      "646/646 [==============================] - 126s 195ms/step - loss: 0.2078 - accuracy: 0.9567 - val_loss: 0.0639 - val_accuracy: 0.9745\n"
     ]
    }
   ],
   "source": [
    "### Train the model with validation \n",
    "history = model.fit( train_dataset, \n",
    "                    steps_per_epoch = train_steps,\n",
    "                   epochs = epochs,\n",
    "                   validation_data = valid_dataset,\n",
    "                   validation_steps = val_steps)"
   ]
  },
  {
   "cell_type": "code",
   "execution_count": 0,
   "metadata": {
    "colab": {
     "base_uri": "https://localhost:8080/",
     "height": 201
    },
    "colab_type": "code",
    "executionInfo": {
     "elapsed": 669620,
     "status": "ok",
     "timestamp": 1563959103543,
     "user": {
      "displayName": "Sam Witteveen",
      "photoUrl": "https://lh4.googleusercontent.com/-AYnAPdNdTe0/AAAAAAAAAAI/AAAAAAAAAEQ/xZa7WFug1g4/s64/photo.jpg",
      "userId": "13451642680591748340"
     },
     "user_tz": -480
    },
    "id": "MNGsVdaDxYYw",
    "outputId": "54a6a0d3-079f-4712-d544-71c6610138d8"
   },
   "outputs": [
    {
     "name": "stdout",
     "output_type": "stream",
     "text": [
      "Train for 646 steps, validate for 71 steps\n",
      "Epoch 1/4\n",
      "646/646 [==============================] - 117s 181ms/step - loss: 0.0669 - accuracy: 0.9750 - val_loss: 0.0414 - val_accuracy: 0.9833\n",
      "Epoch 2/4\n",
      "646/646 [==============================] - 112s 174ms/step - loss: 0.0494 - accuracy: 0.9817 - val_loss: 0.0310 - val_accuracy: 0.9894\n",
      "Epoch 3/4\n",
      "646/646 [==============================] - 112s 173ms/step - loss: 0.0362 - accuracy: 0.9870 - val_loss: 0.0400 - val_accuracy: 0.9815\n",
      "Epoch 4/4\n",
      "224/646 [=========>....................] - ETA: 1:14 - loss: 0.0297 - accuracy: 0.9887"
     ]
    }
   ],
   "source": [
    "epochs = 4\n",
    "\n",
    "### Train the model with validation \n",
    "history = model.fit( train_dataset, steps_per_epoch = train_steps,\n",
    "                   epochs = epochs,\n",
    "                   validation_data = valid_dataset,\n",
    "                   validation_steps = val_steps)"
   ]
  },
  {
   "cell_type": "code",
   "execution_count": 0,
   "metadata": {
    "colab": {
     "base_uri": "https://localhost:8080/",
     "height": 50
    },
    "colab_type": "code",
    "executionInfo": {
     "elapsed": 692892,
     "status": "ok",
     "timestamp": 1563959127787,
     "user": {
      "displayName": "Sam Witteveen",
      "photoUrl": "https://lh4.googleusercontent.com/-AYnAPdNdTe0/AAAAAAAAAAI/AAAAAAAAAEQ/xZa7WFug1g4/s64/photo.jpg",
      "userId": "13451642680591748340"
     },
     "user_tz": -480
    },
    "id": "mu0u3ouW_zd7",
    "outputId": "84b3f318-2ef6-4ff2-845e-79a47378b24d"
   },
   "outputs": [
    {
     "name": "stdout",
     "output_type": "stream",
     "text": [
      "71/71 [==============================] - 24s 339ms/step - loss: 0.0246 - accuracy: 0.9925\n",
      "model accuracy: 0.9925176\n"
     ]
    }
   ],
   "source": [
    "metrics = model.evaluate(valid_dataset,\n",
    "                   steps = val_steps)\n",
    "print(\"model accuracy:\",metrics[1])"
   ]
  },
  {
   "cell_type": "code",
   "execution_count": 0,
   "metadata": {
    "colab": {},
    "colab_type": "code",
    "id": "zu_t7fQn_zeB"
   },
   "outputs": [],
   "source": [
    "image_path = './data/dogscats/test1/'"
   ]
  },
  {
   "cell_type": "code",
   "execution_count": 0,
   "metadata": {
    "colab": {
     "base_uri": "https://localhost:8080/",
     "height": 391
    },
    "colab_type": "code",
    "executionInfo": {
     "elapsed": 691417,
     "status": "ok",
     "timestamp": 1563959127791,
     "user": {
      "displayName": "Sam Witteveen",
      "photoUrl": "https://lh4.googleusercontent.com/-AYnAPdNdTe0/AAAAAAAAAAI/AAAAAAAAAEQ/xZa7WFug1g4/s64/photo.jpg",
      "userId": "13451642680591748340"
     },
     "user_tz": -480
    },
    "id": "9PNPfWotsZie",
    "outputId": "4d912152-d0f6-4561-b3b3-dfbcb3b7f08e"
   },
   "outputs": [
    {
     "data": {
      "image/jpeg": "[encoded data removed]",
      "text/plain": [
       "<IPython.core.display.Image object>"
      ]
     },
     "execution_count": 30,
     "metadata": {
      "tags": []
     },
     "output_type": "execute_result"
    }
   ],
   "source": [
    "from IPython.display import Image\n",
    "\n",
    "image_check = '1006.jpg'\n",
    "\n",
    "Image(image_path+image_check)"
   ]
  },
  {
   "cell_type": "code",
   "execution_count": 0,
   "metadata": {
    "colab": {
     "base_uri": "https://localhost:8080/",
     "height": 67
    },
    "colab_type": "code",
    "executionInfo": {
     "elapsed": 690672,
     "status": "ok",
     "timestamp": 1563959128269,
     "user": {
      "displayName": "Sam Witteveen",
      "photoUrl": "https://lh4.googleusercontent.com/-AYnAPdNdTe0/AAAAAAAAAAI/AAAAAAAAAEQ/xZa7WFug1g4/s64/photo.jpg",
      "userId": "13451642680591748340"
     },
     "user_tz": -480
    },
    "id": "p1CkLtol_zeD",
    "outputId": "e67a3535-d2d5-4ca4-866a-685a2191ca82"
   },
   "outputs": [
    {
     "name": "stdout",
     "output_type": "stream",
     "text": [
      "./data/dogscats/test1/1006.jpg\n",
      "Input image shape: (1, 224, 224, 3)\n"
     ]
    },
    {
     "name": "stderr",
     "output_type": "stream",
     "text": [
      "Using TensorFlow backend.\n"
     ]
    }
   ],
   "source": [
    "from keras.preprocessing import image\n",
    "from keras.applications.imagenet_utils import preprocess_input, decode_predictions\n",
    "import numpy as np\n",
    "\n",
    "img_path = os.path.join(image_path, image_check)\n",
    "print(img_path)\n",
    "img = image.load_img(img_path, target_size=(224, 224))\n",
    "x = image.img_to_array(img)\n",
    "x = np.expand_dims(x, axis=0)\n",
    "x = preprocess_input(x)\n",
    "print('Input image shape:', x.shape)"
   ]
  },
  {
   "cell_type": "code",
   "execution_count": 0,
   "metadata": {
    "colab": {},
    "colab_type": "code",
    "id": "MXnIIP2q_zeF"
   },
   "outputs": [],
   "source": []
  },
  {
   "cell_type": "code",
   "execution_count": 0,
   "metadata": {
    "colab": {
     "base_uri": "https://localhost:8080/",
     "height": 34
    },
    "colab_type": "code",
    "executionInfo": {
     "elapsed": 689447,
     "status": "ok",
     "timestamp": 1563959128272,
     "user": {
      "displayName": "Sam Witteveen",
      "photoUrl": "https://lh4.googleusercontent.com/-AYnAPdNdTe0/AAAAAAAAAAI/AAAAAAAAAEQ/xZa7WFug1g4/s64/photo.jpg",
      "userId": "13451642680591748340"
     },
     "user_tz": -480
    },
    "id": "BEy4IZRN_zeH",
    "outputId": "ee13c2c4-8380-4f7e-de37-0fa600014a1e"
   },
   "outputs": [
    {
     "name": "stdout",
     "output_type": "stream",
     "text": [
      "Predicted: [[5.408326e-28 1.000000e+00]]\n"
     ]
    }
   ],
   "source": [
    "preds = model.predict(x)\n",
    "print('Predicted:', preds)"
   ]
  },
  {
   "cell_type": "code",
   "execution_count": 0,
   "metadata": {
    "colab": {
     "base_uri": "https://localhost:8080/",
     "height": 34
    },
    "colab_type": "code",
    "executionInfo": {
     "elapsed": 688982,
     "status": "ok",
     "timestamp": 1563959128273,
     "user": {
      "displayName": "Sam Witteveen",
      "photoUrl": "https://lh4.googleusercontent.com/-AYnAPdNdTe0/AAAAAAAAAAI/AAAAAAAAAEQ/xZa7WFug1g4/s64/photo.jpg",
      "userId": "13451642680591748340"
     },
     "user_tz": -480
    },
    "id": "YwW_lEeK_zeK",
    "outputId": "4f825f0a-2890-4d1b-cf9e-290f490586ad"
   },
   "outputs": [
    {
     "name": "stdout",
     "output_type": "stream",
     "text": [
      "It's a dog\n"
     ]
    }
   ],
   "source": [
    "result= preds[0][0]\n",
    "if result< preds[0][1]:\n",
    "    print(\"It's a dog\")\n",
    "else:\n",
    "    print(\"It's a cat\")"
   ]
  },
  {
   "cell_type": "code",
   "execution_count": 0,
   "metadata": {
    "colab": {
     "base_uri": "https://localhost:8080/",
     "height": 890
    },
    "colab_type": "code",
    "executionInfo": {
     "elapsed": 688424,
     "status": "ok",
     "timestamp": 1563959128274,
     "user": {
      "displayName": "Sam Witteveen",
      "photoUrl": "https://lh4.googleusercontent.com/-AYnAPdNdTe0/AAAAAAAAAAI/AAAAAAAAAEQ/xZa7WFug1g4/s64/photo.jpg",
      "userId": "13451642680591748340"
     },
     "user_tz": -480
    },
    "id": "6P1avcPg_zeQ",
    "outputId": "77856552-0139-4000-8797-691838384546"
   },
   "outputs": [
    {
     "name": "stdout",
     "output_type": "stream",
     "text": [
      "Model: \"model\"\n",
      "_________________________________________________________________\n",
      "Layer (type)                 Output Shape              Param #   \n",
      "=================================================================\n",
      "input_1 (InputLayer)         [(None, 224, 224, 3)]     0         \n",
      "_________________________________________________________________\n",
      "block1_conv1 (Conv2D)        (None, 224, 224, 64)      1792      \n",
      "_________________________________________________________________\n",
      "block1_conv2 (Conv2D)        (None, 224, 224, 64)      36928     \n",
      "_________________________________________________________________\n",
      "block1_pool (MaxPooling2D)   (None, 112, 112, 64)      0         \n",
      "_________________________________________________________________\n",
      "block2_conv1 (Conv2D)        (None, 112, 112, 128)     73856     \n",
      "_________________________________________________________________\n",
      "block2_conv2 (Conv2D)        (None, 112, 112, 128)     147584    \n",
      "_________________________________________________________________\n",
      "block2_pool (MaxPooling2D)   (None, 56, 56, 128)       0         \n",
      "_________________________________________________________________\n",
      "block3_conv1 (Conv2D)        (None, 56, 56, 256)       295168    \n",
      "_________________________________________________________________\n",
      "block3_conv2 (Conv2D)        (None, 56, 56, 256)       590080    \n",
      "_________________________________________________________________\n",
      "block3_conv3 (Conv2D)        (None, 56, 56, 256)       590080    \n",
      "_________________________________________________________________\n",
      "block3_pool (MaxPooling2D)   (None, 28, 28, 256)       0         \n",
      "_________________________________________________________________\n",
      "block4_conv1 (Conv2D)        (None, 28, 28, 512)       1180160   \n",
      "_________________________________________________________________\n",
      "block4_conv2 (Conv2D)        (None, 28, 28, 512)       2359808   \n",
      "_________________________________________________________________\n",
      "block4_conv3 (Conv2D)        (None, 28, 28, 512)       2359808   \n",
      "_________________________________________________________________\n",
      "block4_pool (MaxPooling2D)   (None, 14, 14, 512)       0         \n",
      "_________________________________________________________________\n",
      "block5_conv1 (Conv2D)        (None, 14, 14, 512)       2359808   \n",
      "_________________________________________________________________\n",
      "block5_conv2 (Conv2D)        (None, 14, 14, 512)       2359808   \n",
      "_________________________________________________________________\n",
      "block5_conv3 (Conv2D)        (None, 14, 14, 512)       2359808   \n",
      "_________________________________________________________________\n",
      "block5_pool (MaxPooling2D)   (None, 7, 7, 512)         0         \n",
      "_________________________________________________________________\n",
      "global_average_pooling2d (Gl (None, 512)               0         \n",
      "_________________________________________________________________\n",
      "dense (Dense)                (None, 512)               262656    \n",
      "_________________________________________________________________\n",
      "dense_1 (Dense)              (None, 2)                 1026      \n",
      "=================================================================\n",
      "Total params: 14,978,370\n",
      "Trainable params: 263,682\n",
      "Non-trainable params: 14,714,688\n",
      "_________________________________________________________________\n"
     ]
    }
   ],
   "source": [
    "model.summary()"
   ]
  },
  {
   "cell_type": "markdown",
   "metadata": {
    "colab_type": "text",
    "id": "NTf1lMRchNX4"
   },
   "source": [
    "### Get the weights"
   ]
  },
  {
   "cell_type": "code",
   "execution_count": 0,
   "metadata": {
    "colab": {},
    "colab_type": "code",
    "id": "ardoPuZghRsL"
   },
   "outputs": [],
   "source": [
    "# weights = model.get_weights()"
   ]
  },
  {
   "cell_type": "code",
   "execution_count": 0,
   "metadata": {
    "colab": {},
    "colab_type": "code",
    "id": "n2iOqoKZhR6b"
   },
   "outputs": [],
   "source": [
    "# model.set_weights(weights)"
   ]
  },
  {
   "cell_type": "markdown",
   "metadata": {
    "colab_type": "text",
    "id": "m6WTGgqD-h5y"
   },
   "source": [
    "## Fine-tuning\n",
    "\n",
    "In this particular case the model is already extremely accurate before fine tuning, so fine tuning doesn't help the model. \n",
    "\n",
    "Often for a model fine tuning can bump your accuracy by a few percent.\n"
   ]
  },
  {
   "cell_type": "code",
   "execution_count": 0,
   "metadata": {
    "colab": {},
    "colab_type": "code",
    "id": "caxnA_cv_zeS"
   },
   "outputs": [],
   "source": [
    "model.trainable = True\n",
    "\n",
    "set_trainable = False\n",
    "for layer in model.layers:\n",
    "    if layer.name == 'block5_conv1':   # Fine tune / Train block5 of VGG\n",
    "        set_trainable = True\n",
    "    if set_trainable:\n",
    "        layer.trainable = True\n",
    "    else:\n",
    "        layer.trainable = False"
   ]
  },
  {
   "cell_type": "code",
   "execution_count": 0,
   "metadata": {
    "colab": {
     "base_uri": "https://localhost:8080/",
     "height": 386
    },
    "colab_type": "code",
    "executionInfo": {
     "elapsed": 685080,
     "status": "ok",
     "timestamp": 1563959128284,
     "user": {
      "displayName": "Sam Witteveen",
      "photoUrl": "https://lh4.googleusercontent.com/-AYnAPdNdTe0/AAAAAAAAAAI/AAAAAAAAAEQ/xZa7WFug1g4/s64/photo.jpg",
      "userId": "13451642680591748340"
     },
     "user_tz": -480
    },
    "id": "g5aVPt9E_zeV",
    "outputId": "d6c43ffd-78d1-4966-c102-f703b2061e87"
   },
   "outputs": [
    {
     "name": "stdout",
     "output_type": "stream",
     "text": [
      "input_1 False\n",
      "block1_conv1 False\n",
      "block1_conv2 False\n",
      "block1_pool False\n",
      "block2_conv1 False\n",
      "block2_conv2 False\n",
      "block2_pool False\n",
      "block3_conv1 False\n",
      "block3_conv2 False\n",
      "block3_conv3 False\n",
      "block3_pool False\n",
      "block4_conv1 False\n",
      "block4_conv2 False\n",
      "block4_conv3 False\n",
      "block4_pool False\n",
      "block5_conv1 True\n",
      "block5_conv2 True\n",
      "block5_conv3 True\n",
      "block5_pool True\n",
      "global_average_pooling2d True\n",
      "dense True\n",
      "dense_1 True\n"
     ]
    }
   ],
   "source": [
    "for layer in model.layers:\n",
    "    print(layer.name,layer.trainable)"
   ]
  },
  {
   "cell_type": "code",
   "execution_count": 0,
   "metadata": {
    "colab": {},
    "colab_type": "code",
    "id": "XoJfolyziNMc"
   },
   "outputs": [],
   "source": []
  },
  {
   "cell_type": "code",
   "execution_count": 0,
   "metadata": {
    "colab": {},
    "colab_type": "code",
    "id": "nLvGIRNsiPSn"
   },
   "outputs": [],
   "source": [
    "# model.set_weights(weights)"
   ]
  },
  {
   "cell_type": "code",
   "execution_count": 0,
   "metadata": {
    "colab": {
     "base_uri": "https://localhost:8080/",
     "height": 121
    },
    "colab_type": "code",
    "executionInfo": {
     "elapsed": 1026400,
     "status": "ok",
     "timestamp": 1563959470331,
     "user": {
      "displayName": "Sam Witteveen",
      "photoUrl": "https://lh4.googleusercontent.com/-AYnAPdNdTe0/AAAAAAAAAAI/AAAAAAAAAEQ/xZa7WFug1g4/s64/photo.jpg",
      "userId": "13451642680591748340"
     },
     "user_tz": -480
    },
    "id": "nNh6W6xq_zeX",
    "outputId": "f6a6600b-0aba-411d-e41a-22527a094cbe"
   },
   "outputs": [
    {
     "name": "stdout",
     "output_type": "stream",
     "text": [
      "Epoch 1/2\n"
     ]
    },
    {
     "name": "stderr",
     "output_type": "stream",
     "text": [
      "W0724 09:05:39.096087 140652424525696 training.py:1992] Discrepancy between trainable weights and collected trainable weights, did you set `model.trainable` without calling `model.compile` after ?\n"
     ]
    },
    {
     "name": "stdout",
     "output_type": "stream",
     "text": [
      "646/646 [==============================] - 177s 274ms/step - loss: 0.0338 - accuracy: 0.9876 - val_loss: 0.0185 - val_accuracy: 0.9925\n",
      "Epoch 2/2\n",
      "646/646 [==============================] - 165s 255ms/step - loss: 0.0263 - accuracy: 0.9905 - val_loss: 0.0396 - val_accuracy: 0.9850\n"
     ]
    }
   ],
   "source": [
    "# # Train the model with validation \n",
    "history = model.fit( train_dataset, steps_per_epoch = train_steps,\n",
    "                   epochs = 2,\n",
    "                   validation_data = valid_dataset,\n",
    "                   validation_steps = val_steps)"
   ]
  },
  {
   "cell_type": "code",
   "execution_count": 0,
   "metadata": {
    "colab": {
     "base_uri": "https://localhost:8080/",
     "height": 50
    },
    "colab_type": "code",
    "executionInfo": {
     "elapsed": 1050992,
     "status": "ok",
     "timestamp": 1563959495081,
     "user": {
      "displayName": "Sam Witteveen",
      "photoUrl": "https://lh4.googleusercontent.com/-AYnAPdNdTe0/AAAAAAAAAAI/AAAAAAAAAEQ/xZa7WFug1g4/s64/photo.jpg",
      "userId": "13451642680591748340"
     },
     "user_tz": -480
    },
    "id": "4uCK4VvY_zeZ",
    "outputId": "684a5d6c-0878-4da7-a81c-c75d9e3bd2d3"
   },
   "outputs": [
    {
     "name": "stdout",
     "output_type": "stream",
     "text": [
      "71/71 [==============================] - 24s 338ms/step - loss: 0.0396 - accuracy: 0.9850\n",
      "model accuracy: 0.98503524\n"
     ]
    }
   ],
   "source": [
    "metrics = model.evaluate(valid_dataset,\n",
    "                   steps = val_steps)\n",
    "print(\"model accuracy:\",metrics[1])"
   ]
  },
  {
   "cell_type": "code",
   "execution_count": 0,
   "metadata": {
    "colab": {},
    "colab_type": "code",
    "id": "hozIFyQbqfq6"
   },
   "outputs": [],
   "source": []
  },
  {
   "cell_type": "code",
   "execution_count": 0,
   "metadata": {
    "colab": {},
    "colab_type": "code",
    "id": "wpmFlhHpZcOL"
   },
   "outputs": [],
   "source": []
  },
  {
   "cell_type": "code",
   "execution_count": 0,
   "metadata": {
    "colab": {},
    "colab_type": "code",
    "id": "Ly9dONGNr_X7"
   },
   "outputs": [],
   "source": []
  }
 ],
 "metadata": {
  "accelerator": "GPU",
  "colab": {
   "collapsed_sections": [],
   "name": "Copy of JS07-05v2 - TF2 - Transfer Learning & Fine Tuning - cats and dogs.ipynb",
   "provenance": [
    {
     "file_id": "1GIhCf4Jc1cVCF0ZvARKk6ExC9F6ugpaN",
     "timestamp": 1581928511234
    },
    {
     "file_id": "16A6FN-xv3oj0OWibCzud52gO-b8a1ept",
     "timestamp": 1559867077739
    },
    {
     "file_id": "1d_djxt0OO5i63IY4yqWkOwrj8yx4JryZ",
     "timestamp": 1558349453400
    },
    {
     "file_id": "1PFlsJ8EdH9FyItSuYtXzOpf4MrwOO0GQ",
     "timestamp": 1547116663499
    },
    {
     "file_id": "1Hzwq-jgRHC2yMbq6tGnJooCbkTZaIBZr",
     "timestamp": 1544682106898
    },
    {
     "file_id": "1-W0ke3NzK3SqfqZvdcEshoDQDjAHze2T",
     "timestamp": 1536656441402
    },
    {
     "file_id": "1Y3m54HoroBDeHVKFcyfwZJVuJT4szj3-",
     "timestamp": 1531318999777
    },
    {
     "file_id": "1f2VSNnko9XHceZ8JmWIuPTeuFzC9RdFy",
     "timestamp": 1523531968431
    }
   ]
  },
  "kernelspec": {
   "display_name": "Python 3",
   "language": "python",
   "name": "python3"
  },
  "language_info": {
   "codemirror_mode": {
    "name": "ipython",
    "version": 3
   },
   "file_extension": ".py",
   "mimetype": "text/x-python",
   "name": "python",
   "nbconvert_exporter": "python",
   "pygments_lexer": "ipython3",
   "version": "3.7.4"
  }
 },
 "nbformat": 4,
 "nbformat_minor": 1
}
